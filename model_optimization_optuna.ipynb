{
 "cells": [
  {
   "cell_type": "markdown",
   "id": "6305edc9",
   "metadata": {},
   "source": [
    "# Hyperparameter tuning using the Optuna library\n",
    "\n",
    "Loading data"
   ]
  },
  {
   "cell_type": "code",
   "execution_count": 1,
   "id": "cf112e82",
   "metadata": {
    "scrolled": true
   },
   
   "source": [
    "import optuna\n",
    "from sklearn.datasets import load_breast_cancer\n",
    "from sklearn.model_selection import train_test_split\n",
    "from sklearn.metrics import accuracy_score, roc_auc_score,precision_recall_curve, auc, precision_score, recall_score\n",
    "import xgboost as xgb\n",
    "import plotly\n",
    "import pandas as pd\n",
    "from sklearn.model_selection import cross_val_score\n",
    "\n",
    "trainingdf=pd.read_csv(\"trainingdata.csv\")\n",
    "signalmask=trainingdf['y']==1\n",
    "signaldf=trainingdf[signalmask]\n",
    "backgrounddf=trainingdf[~signalmask]\n",
    "\n",
    "def selectorderly(signal, background,trainingpercent, trainingsample,testingpercent, testingsample):\n",
    "    signal=signal.sample(frac=1, random_state=42).reset_index(drop=True)\n",
    "    background=background.sample(frac=1, random_state=42).reset_index(drop=True)\n",
    "    trainingdata =pd.concat([signal.iloc[0:int(trainingpercent*trainingsample)],background.iloc[0:int((1-trainingpercent)*trainingsample)]],ignore_index=True)\n",
    "    testingdata= pd.concat([signal.iloc[int(trainingpercent*trainingsample):int(testingpercent*testingsample+trainingpercent*trainingsample)],background.iloc[int((1-trainingpercent)*trainingsample):int((1-testingpercent)*testingsample+(1-trainingpercent)*trainingsample)]],ignore_index=True)\n",
    "    return trainingdata,testingdata"
   ]
  },
  {
   "cell_type": "markdown",
   "id": "98aa2fb3",
   "metadata": {},
   "source": [
    "Creating the Optuna objective function, in this case the area under curve (AUC) is to be maximized"
   ]
  },
  {
   "cell_type": "code",
   "execution_count": 2,
   "id": "4bf4a837",
   "metadata": {},
   "outputs": [],
   "source": [
    "def objective(trial):\n",
    "    trainingdata, _= selectorderly(signaldf,backgrounddf,0.5,100000,0.14,200000)\n",
    "    data=trainingdata.drop('y',axis=1)\n",
    "    target=trainingdata['y']\n",
    "    train_x, valid_x, train_y, valid_y = train_test_split(data, target, test_size=(0.2),random_state=42)\n",
    "    param = {\n",
    "        \"objective\": \"binary:logistic\",\n",
    "        \"eval_metric\": \"auc\",\n",
    "        \"booster\": \"gbtree\",\n",
    "        \"tree_method\": \"hist\",  # or \"gpu_hist\" if GPU\n",
    "        \n",
    "        \"learning_rate\": trial.suggest_float(\"learning_rate\", 1e-3, 0.3, log=True),\n",
    "        \n",
    "        \"n_estimators\": trial.suggest_int(\"n_estimators\", 100, 1000),\n",
    "    }\n",
    "    pruning_callback = optuna.integration.XGBoostPruningCallback(trial, \"validation_0-auc\")\n",
    "    model = xgb.XGBClassifier(**param,random_state=42, callbacks=[pruning_callback],early_stopping_rounds=50)\n",
    "    model.fit(\n",
    "        train_x, train_y,\n",
    "        eval_set=[(valid_x, valid_y)],\n",
    "        verbose=False,\n",
    "        \n",
    "    )\n",
    "\n",
    "    preds = model.predict_proba(valid_x)[:, 1]\n",
    "    auc = roc_auc_score(valid_y, preds)\n",
    "    return auc"
   ]
  },
  {
   "cell_type": "markdown",
   "id": "d7e26c89",
   "metadata": {},
   "source": [
    "Creating the Optuna studying and optimizing the XGBoost model"
   ]
  },
  {
   "cell_type": "code",
   "execution_count": 3,
   "id": "31a11f2b",
   "metadata": {},
   "outputs": [
    {
     "name": "stderr",
     "output_type": "stream",
     "text": [
      "[I 2025-09-12 19:12:37,443] A new study created in RDB with name: xgb_2_study\n",
      "[I 2025-09-12 19:13:24,903] Trial 0 finished with value: 0.9408441453407804 and parameters: {'learning_rate': 0.008468008575248327, 'n_estimators': 956}. Best is trial 0 with value: 0.9408441453407804.\n",
      "[I 2025-09-12 19:13:49,965] Trial 1 finished with value: 0.9488720236822901 and parameters: {'learning_rate': 0.06504856968981275, 'n_estimators': 639}. Best is trial 1 with value: 0.9488720236822901.\n",
      "[I 2025-09-12 19:13:50,520] Trial 2 pruned. Trial was pruned at iteration 1.\n",
      "[I 2025-09-12 19:13:51,129] Trial 3 pruned. Trial was pruned at iteration 1.\n",
      "[I 2025-09-12 19:13:51,827] Trial 4 pruned. Trial was pruned at iteration 1.\n",
      "[I 2025-09-12 19:14:41,209] Trial 5 finished with value: 0.9134920302773709 and parameters: {'learning_rate': 0.001124579825911934, 'n_estimators': 973}. Best is trial 1 with value: 0.9488720236822901.\n",
      "[I 2025-09-12 19:14:57,502] Trial 6 finished with value: 0.9487828225895767 and parameters: {'learning_rate': 0.11536162338241392, 'n_estimators': 291}. Best is trial 1 with value: 0.9488720236822901.\n",
      "[I 2025-09-12 19:14:58,672] Trial 7 pruned. Trial was pruned at iteration 1.\n",
      "[I 2025-09-12 19:15:26,902] Trial 8 finished with value: 0.9264842894325456 and parameters: {'learning_rate': 0.005670807781371429, 'n_estimators': 572}. Best is trial 1 with value: 0.9488720236822901.\n",
      "[I 2025-09-12 19:15:46,964] Trial 9 finished with value: 0.9316445276454637 and parameters: {'learning_rate': 0.01174843954800703, 'n_estimators': 362}. Best is trial 1 with value: 0.9488720236822901.\n",
      "[I 2025-09-12 19:15:55,033] Trial 10 finished with value: 0.9481972354161339 and parameters: {'learning_rate': 0.253238990594609, 'n_estimators': 526}. Best is trial 1 with value: 0.9488720236822901.\n",
      "[I 2025-09-12 19:15:55,489] Trial 11 pruned. Trial was pruned at iteration 3.\n",
      "[I 2025-09-12 19:16:12,930] Trial 12 finished with value: 0.9487060466490713 and parameters: {'learning_rate': 0.12795607701688289, 'n_estimators': 549}. Best is trial 1 with value: 0.9488720236822901.\n",
      "[I 2025-09-12 19:16:13,406] Trial 13 pruned. Trial was pruned at iteration 3.\n",
      "[I 2025-09-12 19:16:14,253] Trial 14 pruned. Trial was pruned at iteration 9.\n",
      "[I 2025-09-12 19:16:17,221] Trial 15 pruned. Trial was pruned at iteration 81.\n",
      "[I 2025-09-12 19:16:23,176] Trial 16 finished with value: 0.9284869789654924 and parameters: {'learning_rate': 0.023597384105103633, 'n_estimators': 153}. Best is trial 1 with value: 0.9488720236822901.\n",
      "[I 2025-09-12 19:16:23,653] Trial 17 pruned. Trial was pruned at iteration 3.\n",
      "[I 2025-09-12 19:16:24,124] Trial 18 pruned. Trial was pruned at iteration 3.\n",
      "[I 2025-09-12 19:16:24,601] Trial 19 pruned. Trial was pruned at iteration 3.\n",
      "[I 2025-09-12 19:16:25,133] Trial 20 pruned. Trial was pruned at iteration 3.\n",
      "[I 2025-09-12 19:16:45,055] Trial 21 finished with value: 0.9485980153256877 and parameters: {'learning_rate': 0.17619769721270673, 'n_estimators': 605}. Best is trial 1 with value: 0.9488720236822901.\n",
      "[I 2025-09-12 19:16:45,557] Trial 22 pruned. Trial was pruned at iteration 3.\n",
      "[I 2025-09-12 19:17:11,443] Trial 23 finished with value: 0.9487904976835966 and parameters: {'learning_rate': 0.10721665442549017, 'n_estimators': 646}. Best is trial 1 with value: 0.9488720236822901.\n",
      "[I 2025-09-12 19:17:12,185] Trial 24 pruned. Trial was pruned at iteration 3.\n",
      "[I 2025-09-12 19:17:13,361] Trial 25 pruned. Trial was pruned at iteration 9.\n",
      "[I 2025-09-12 19:17:14,008] Trial 26 pruned. Trial was pruned at iteration 3.\n",
      "[I 2025-09-12 19:17:14,729] Trial 27 pruned. Trial was pruned at iteration 3.\n",
      "[I 2025-09-12 19:17:15,523] Trial 28 pruned. Trial was pruned at iteration 3.\n",
      "[I 2025-09-12 19:17:16,213] Trial 29 pruned. Trial was pruned at iteration 3.\n",
      "[I 2025-09-12 19:17:16,766] Trial 30 pruned. Trial was pruned at iteration 1.\n",
      "[I 2025-09-12 19:17:17,596] Trial 31 pruned. Trial was pruned at iteration 3.\n",
      "[I 2025-09-12 19:17:19,056] Trial 32 pruned. Trial was pruned at iteration 9.\n",
      "[I 2025-09-12 19:17:28,688] Trial 33 finished with value: 0.9480469935756712 and parameters: {'learning_rate': 0.12381053221254733, 'n_estimators': 203}. Best is trial 1 with value: 0.9488720236822901.\n",
      "[I 2025-09-12 19:17:29,163] Trial 34 pruned. Trial was pruned at iteration 1.\n",
      "[I 2025-09-12 19:17:29,562] Trial 35 pruned. Trial was pruned at iteration 1.\n",
      "[I 2025-09-12 19:17:38,655] Trial 36 finished with value: 0.9483929478136106 and parameters: {'learning_rate': 0.23106953064078845, 'n_estimators': 764}. Best is trial 1 with value: 0.9488720236822901.\n",
      "[I 2025-09-12 19:18:01,149] Trial 37 finished with value: 0.948849228403048 and parameters: {'learning_rate': 0.13939873927664911, 'n_estimators': 598}. Best is trial 1 with value: 0.9488720236822901.\n",
      "[I 2025-09-12 19:18:01,608] Trial 38 pruned. Trial was pruned at iteration 3.\n",
      "[I 2025-09-12 19:18:02,117] Trial 39 pruned. Trial was pruned at iteration 1.\n",
      "[I 2025-09-12 19:18:02,756] Trial 40 pruned. Trial was pruned at iteration 3.\n",
      "[I 2025-09-12 19:18:03,254] Trial 41 pruned. Trial was pruned at iteration 1.\n",
      "[I 2025-09-12 19:18:03,877] Trial 42 pruned. Trial was pruned at iteration 9.\n",
      "[I 2025-09-12 19:18:13,043] Trial 43 finished with value: 0.9480376134607649 and parameters: {'learning_rate': 0.21874518392022435, 'n_estimators': 216}. Best is trial 1 with value: 0.9488720236822901.\n",
      "[I 2025-09-12 19:18:27,919] Trial 44 finished with value: 0.9476703089612849 and parameters: {'learning_rate': 0.29748245365267917, 'n_estimators': 696}. Best is trial 1 with value: 0.9488720236822901.\n",
      "[I 2025-09-12 19:18:28,466] Trial 45 pruned. Trial was pruned at iteration 1.\n",
      "[I 2025-09-12 19:18:29,056] Trial 46 pruned. Trial was pruned at iteration 3.\n",
      "[I 2025-09-12 19:18:29,491] Trial 47 pruned. Trial was pruned at iteration 1.\n",
      "[I 2025-09-12 19:18:29,873] Trial 48 pruned. Trial was pruned at iteration 1.\n",
      "[I 2025-09-12 19:18:30,896] Trial 49 pruned. Trial was pruned at iteration 3.\n",
      "[I 2025-09-12 19:18:31,951] Trial 50 pruned. Trial was pruned at iteration 3.\n",
      "[I 2025-09-12 19:18:37,954] Trial 51 pruned. Trial was pruned at iteration 27.\n",
      "[I 2025-09-12 19:18:39,525] Trial 52 pruned. Trial was pruned at iteration 3.\n",
      "[I 2025-09-12 19:18:41,040] Trial 53 pruned. Trial was pruned at iteration 3.\n",
      "[I 2025-09-12 19:18:42,215] Trial 54 pruned. Trial was pruned at iteration 1.\n",
      "[I 2025-09-12 19:18:44,381] Trial 55 pruned. Trial was pruned at iteration 9.\n",
      "[I 2025-09-12 19:18:45,324] Trial 56 pruned. Trial was pruned at iteration 1.\n",
      "[I 2025-09-12 19:19:01,208] Trial 57 pruned. Trial was pruned at iteration 81.\n",
      "[I 2025-09-12 19:19:02,573] Trial 58 pruned. Trial was pruned at iteration 3.\n",
      "[I 2025-09-12 19:19:03,527] Trial 59 pruned. Trial was pruned at iteration 1.\n",
      "[I 2025-09-12 19:19:04,381] Trial 60 pruned. Trial was pruned at iteration 1.\n",
      "[I 2025-09-12 19:19:46,037] Trial 61 pruned. Trial was pruned at iteration 243.\n",
      "[I 2025-09-12 19:19:52,275] Trial 62 pruned. Trial was pruned at iteration 27.\n",
      "[I 2025-09-12 19:19:55,047] Trial 63 pruned. Trial was pruned at iteration 9.\n",
      "[I 2025-09-12 19:19:57,834] Trial 64 pruned. Trial was pruned at iteration 9.\n",
      "[I 2025-09-12 19:20:42,674] Trial 65 finished with value: 0.9477183495497818 and parameters: {'learning_rate': 0.2668366057624534, 'n_estimators': 667}. Best is trial 1 with value: 0.9488720236822901.\n",
      "[I 2025-09-12 19:20:44,069] Trial 66 pruned. Trial was pruned at iteration 3.\n",
      "[I 2025-09-12 19:20:44,975] Trial 67 pruned. Trial was pruned at iteration 1.\n",
      "[I 2025-09-12 19:21:03,560] Trial 68 finished with value: 0.9489217942919802 and parameters: {'learning_rate': 0.15199494041354802, 'n_estimators': 613}. Best is trial 68 with value: 0.9489217942919802.\n",
      "[I 2025-09-12 19:21:20,869] Trial 69 finished with value: 0.9487345469982006 and parameters: {'learning_rate': 0.15978614310222386, 'n_estimators': 628}. Best is trial 68 with value: 0.9489217942919802.\n",
      "[I 2025-09-12 19:21:21,194] Trial 70 pruned. Trial was pruned at iteration 1.\n",
      "[I 2025-09-12 19:21:33,170] Trial 71 finished with value: 0.9488406232976354 and parameters: {'learning_rate': 0.1476292750234549, 'n_estimators': 656}. Best is trial 68 with value: 0.9489217942919802.\n",
      "[I 2025-09-12 19:21:33,800] Trial 72 pruned. Trial was pruned at iteration 9.\n",
      "[I 2025-09-12 19:21:34,151] Trial 73 pruned. Trial was pruned at iteration 1.\n",
      "[I 2025-09-12 19:21:34,729] Trial 74 pruned. Trial was pruned at iteration 3.\n",
      "[I 2025-09-12 19:21:35,658] Trial 75 pruned. Trial was pruned at iteration 3.\n",
      "[I 2025-09-12 19:21:36,241] Trial 76 pruned. Trial was pruned at iteration 3.\n",
      "[I 2025-09-12 19:21:36,952] Trial 77 pruned. Trial was pruned at iteration 9.\n",
      "[I 2025-09-12 19:21:37,543] Trial 78 pruned. Trial was pruned at iteration 9.\n",
      "[I 2025-09-12 19:21:37,960] Trial 79 pruned. Trial was pruned at iteration 3.\n",
      "[I 2025-09-12 19:21:38,367] Trial 80 pruned. Trial was pruned at iteration 3.\n",
      "[I 2025-09-12 19:21:38,966] Trial 81 pruned. Trial was pruned at iteration 9.\n",
      "[I 2025-09-12 19:21:39,398] Trial 82 pruned. Trial was pruned at iteration 3.\n",
      "[I 2025-09-12 19:21:40,730] Trial 83 pruned. Trial was pruned at iteration 27.\n",
      "[I 2025-09-12 19:21:41,383] Trial 84 pruned. Trial was pruned at iteration 9.\n",
      "[I 2025-09-12 19:21:41,738] Trial 85 pruned. Trial was pruned at iteration 1.\n",
      "[I 2025-09-12 19:21:42,116] Trial 86 pruned. Trial was pruned at iteration 1.\n",
      "[I 2025-09-12 19:21:42,501] Trial 87 pruned. Trial was pruned at iteration 1.\n",
      "[I 2025-09-12 19:21:43,204] Trial 88 pruned. Trial was pruned at iteration 1.\n",
      "[I 2025-09-12 19:21:44,354] Trial 89 pruned. Trial was pruned at iteration 27.\n",
      "[I 2025-09-12 19:21:44,711] Trial 90 pruned. Trial was pruned at iteration 1.\n",
      "[I 2025-09-12 19:21:57,219] Trial 91 pruned. Trial was pruned at iteration 243.\n",
      "[I 2025-09-12 19:22:02,566] Trial 92 pruned. Trial was pruned at iteration 81.\n",
      "[I 2025-09-12 19:22:03,674] Trial 93 pruned. Trial was pruned at iteration 9.\n",
      "[I 2025-09-12 19:22:04,726] Trial 94 pruned. Trial was pruned at iteration 9.\n",
      "[I 2025-09-12 19:22:05,566] Trial 95 pruned. Trial was pruned at iteration 9.\n",
      "[I 2025-09-12 19:22:06,689] Trial 96 pruned. Trial was pruned at iteration 9.\n",
      "[I 2025-09-12 19:22:07,269] Trial 97 pruned. Trial was pruned at iteration 1.\n",
      "[I 2025-09-12 19:22:07,849] Trial 98 pruned. Trial was pruned at iteration 1.\n",
      "[I 2025-09-12 19:22:08,483] Trial 99 pruned. Trial was pruned at iteration 1.\n"
     ]
    },
    {
     "name": "stdout",
     "output_type": "stream",
     "text": [
      "Best parameters: {'learning_rate': 0.15199494041354802, 'n_estimators': 613}\n",
      "Best score: 0.9489217942919802\n"
     ]
    }
   ],
   "source": [
    "sampler = optuna.samplers.TPESampler(seed=42)\n",
    "\n",
    "study = optuna.create_study(pruner=optuna.pruners.HyperbandPruner(),sampler=sampler,direction=\"maximize\",study_name=\"xgb_2_study\",\n",
    "    storage=\"sqlite:///xgb_study.db\", load_if_exists=True)\n",
    "\n",
    "study.optimize(objective, n_trials=100, timeout=3600)\n",
    "\n",
    "print(\"Best parameters:\", study.best_trial.params)\n",
    "print(\"Best score:\", study.best_trial.value)"
   ]
  },
  {
   "cell_type": "markdown",
   "id": "53132848",
   "metadata": {},
   "source": [
    "Visualization of the optimiztion and the trials"
   ]
  },
  {
   "cell_type": "code",
   "execution_count": 4,
   "id": "5f8b2803",
   "metadata": {},
   "outputs": [
    {
     "data": {
      "application/vnd.plotly.v1+json": {
       "config": {
        "plotlyServerURL": "https://plot.ly"
       },
       "data": [
        {
         "cliponaxis": false,
         "hovertemplate": [
          "n_estimators (IntDistribution): 0.12674268913847153<extra></extra>",
          "learning_rate (FloatDistribution): 0.8732573108615285<extra></extra>"
         ],
         "name": "Objective Value",
         "orientation": "h",
         "text": [
          "0.13",
          "0.87"
         ],
         "textposition": "outside",
         "type": "bar",
         "x": [
          0.12674268913847153,
          0.8732573108615285
         ],
         "y": [
          "n_estimators",
          "learning_rate"
         ]
        }
       ],
       "layout": {
        "template": {
         "data": {
          "bar": [
           {
            "error_x": {
             "color": "#2a3f5f"
            },
            "error_y": {
             "color": "#2a3f5f"
            },
            "marker": {
             "line": {
              "color": "#E5ECF6",
              "width": 0.5
             },
             "pattern": {
              "fillmode": "overlay",
              "size": 10,
              "solidity": 0.2
             }
            },
            "type": "bar"
           }
          ],
          "barpolar": [
           {
            "marker": {
             "line": {
              "color": "#E5ECF6",
              "width": 0.5
             },
             "pattern": {
              "fillmode": "overlay",
              "size": 10,
              "solidity": 0.2
             }
            },
            "type": "barpolar"
           }
          ],
          "carpet": [
           {
            "aaxis": {
             "endlinecolor": "#2a3f5f",
             "gridcolor": "white",
             "linecolor": "white",
             "minorgridcolor": "white",
             "startlinecolor": "#2a3f5f"
            },
            "baxis": {
             "endlinecolor": "#2a3f5f",
             "gridcolor": "white",
             "linecolor": "white",
             "minorgridcolor": "white",
             "startlinecolor": "#2a3f5f"
            },
            "type": "carpet"
           }
          ],
          "choropleth": [
           {
            "colorbar": {
             "outlinewidth": 0,
             "ticks": ""
            },
            "type": "choropleth"
           }
          ],
          "contour": [
           {
            "colorbar": {
             "outlinewidth": 0,
             "ticks": ""
            },
            "colorscale": [
             [
              0,
              "#0d0887"
             ],
             [
              0.1111111111111111,
              "#46039f"
             ],
             [
              0.2222222222222222,
              "#7201a8"
             ],
             [
              0.3333333333333333,
              "#9c179e"
             ],
             [
              0.4444444444444444,
              "#bd3786"
             ],
             [
              0.5555555555555556,
              "#d8576b"
             ],
             [
              0.6666666666666666,
              "#ed7953"
             ],
             [
              0.7777777777777778,
              "#fb9f3a"
             ],
             [
              0.8888888888888888,
              "#fdca26"
             ],
             [
              1,
              "#f0f921"
             ]
            ],
            "type": "contour"
           }
          ],
          "contourcarpet": [
           {
            "colorbar": {
             "outlinewidth": 0,
             "ticks": ""
            },
            "type": "contourcarpet"
           }
          ],
          "heatmap": [
           {
            "colorbar": {
             "outlinewidth": 0,
             "ticks": ""
            },
            "colorscale": [
             [
              0,
              "#0d0887"
             ],
             [
              0.1111111111111111,
              "#46039f"
             ],
             [
              0.2222222222222222,
              "#7201a8"
             ],
             [
              0.3333333333333333,
              "#9c179e"
             ],
             [
              0.4444444444444444,
              "#bd3786"
             ],
             [
              0.5555555555555556,
              "#d8576b"
             ],
             [
              0.6666666666666666,
              "#ed7953"
             ],
             [
              0.7777777777777778,
              "#fb9f3a"
             ],
             [
              0.8888888888888888,
              "#fdca26"
             ],
             [
              1,
              "#f0f921"
             ]
            ],
            "type": "heatmap"
           }
          ],
          "histogram": [
           {
            "marker": {
             "pattern": {
              "fillmode": "overlay",
              "size": 10,
              "solidity": 0.2
             }
            },
            "type": "histogram"
           }
          ],
          "histogram2d": [
           {
            "colorbar": {
             "outlinewidth": 0,
             "ticks": ""
            },
            "colorscale": [
             [
              0,
              "#0d0887"
             ],
             [
              0.1111111111111111,
              "#46039f"
             ],
             [
              0.2222222222222222,
              "#7201a8"
             ],
             [
              0.3333333333333333,
              "#9c179e"
             ],
             [
              0.4444444444444444,
              "#bd3786"
             ],
             [
              0.5555555555555556,
              "#d8576b"
             ],
             [
              0.6666666666666666,
              "#ed7953"
             ],
             [
              0.7777777777777778,
              "#fb9f3a"
             ],
             [
              0.8888888888888888,
              "#fdca26"
             ],
             [
              1,
              "#f0f921"
             ]
            ],
            "type": "histogram2d"
           }
          ],
          "histogram2dcontour": [
           {
            "colorbar": {
             "outlinewidth": 0,
             "ticks": ""
            },
            "colorscale": [
             [
              0,
              "#0d0887"
             ],
             [
              0.1111111111111111,
              "#46039f"
             ],
             [
              0.2222222222222222,
              "#7201a8"
             ],
             [
              0.3333333333333333,
              "#9c179e"
             ],
             [
              0.4444444444444444,
              "#bd3786"
             ],
             [
              0.5555555555555556,
              "#d8576b"
             ],
             [
              0.6666666666666666,
              "#ed7953"
             ],
             [
              0.7777777777777778,
              "#fb9f3a"
             ],
             [
              0.8888888888888888,
              "#fdca26"
             ],
             [
              1,
              "#f0f921"
             ]
            ],
            "type": "histogram2dcontour"
           }
          ],
          "mesh3d": [
           {
            "colorbar": {
             "outlinewidth": 0,
             "ticks": ""
            },
            "type": "mesh3d"
           }
          ],
          "parcoords": [
           {
            "line": {
             "colorbar": {
              "outlinewidth": 0,
              "ticks": ""
             }
            },
            "type": "parcoords"
           }
          ],
          "pie": [
           {
            "automargin": true,
            "type": "pie"
           }
          ],
          "scatter": [
           {
            "fillpattern": {
             "fillmode": "overlay",
             "size": 10,
             "solidity": 0.2
            },
            "type": "scatter"
           }
          ],
          "scatter3d": [
           {
            "line": {
             "colorbar": {
              "outlinewidth": 0,
              "ticks": ""
             }
            },
            "marker": {
             "colorbar": {
              "outlinewidth": 0,
              "ticks": ""
             }
            },
            "type": "scatter3d"
           }
          ],
          "scattercarpet": [
           {
            "marker": {
             "colorbar": {
              "outlinewidth": 0,
              "ticks": ""
             }
            },
            "type": "scattercarpet"
           }
          ],
          "scattergeo": [
           {
            "marker": {
             "colorbar": {
              "outlinewidth": 0,
              "ticks": ""
             }
            },
            "type": "scattergeo"
           }
          ],
          "scattergl": [
           {
            "marker": {
             "colorbar": {
              "outlinewidth": 0,
              "ticks": ""
             }
            },
            "type": "scattergl"
           }
          ],
          "scattermap": [
           {
            "marker": {
             "colorbar": {
              "outlinewidth": 0,
              "ticks": ""
             }
            },
            "type": "scattermap"
           }
          ],
          "scattermapbox": [
           {
            "marker": {
             "colorbar": {
              "outlinewidth": 0,
              "ticks": ""
             }
            },
            "type": "scattermapbox"
           }
          ],
          "scatterpolar": [
           {
            "marker": {
             "colorbar": {
              "outlinewidth": 0,
              "ticks": ""
             }
            },
            "type": "scatterpolar"
           }
          ],
          "scatterpolargl": [
           {
            "marker": {
             "colorbar": {
              "outlinewidth": 0,
              "ticks": ""
             }
            },
            "type": "scatterpolargl"
           }
          ],
          "scatterternary": [
           {
            "marker": {
             "colorbar": {
              "outlinewidth": 0,
              "ticks": ""
             }
            },
            "type": "scatterternary"
           }
          ],
          "surface": [
           {
            "colorbar": {
             "outlinewidth": 0,
             "ticks": ""
            },
            "colorscale": [
             [
              0,
              "#0d0887"
             ],
             [
              0.1111111111111111,
              "#46039f"
             ],
             [
              0.2222222222222222,
              "#7201a8"
             ],
             [
              0.3333333333333333,
              "#9c179e"
             ],
             [
              0.4444444444444444,
              "#bd3786"
             ],
             [
              0.5555555555555556,
              "#d8576b"
             ],
             [
              0.6666666666666666,
              "#ed7953"
             ],
             [
              0.7777777777777778,
              "#fb9f3a"
             ],
             [
              0.8888888888888888,
              "#fdca26"
             ],
             [
              1,
              "#f0f921"
             ]
            ],
            "type": "surface"
           }
          ],
          "table": [
           {
            "cells": {
             "fill": {
              "color": "#EBF0F8"
             },
             "line": {
              "color": "white"
             }
            },
            "header": {
             "fill": {
              "color": "#C8D4E3"
             },
             "line": {
              "color": "white"
             }
            },
            "type": "table"
           }
          ]
         },
         "layout": {
          "annotationdefaults": {
           "arrowcolor": "#2a3f5f",
           "arrowhead": 0,
           "arrowwidth": 1
          },
          "autotypenumbers": "strict",
          "coloraxis": {
           "colorbar": {
            "outlinewidth": 0,
            "ticks": ""
           }
          },
          "colorscale": {
           "diverging": [
            [
             0,
             "#8e0152"
            ],
            [
             0.1,
             "#c51b7d"
            ],
            [
             0.2,
             "#de77ae"
            ],
            [
             0.3,
             "#f1b6da"
            ],
            [
             0.4,
             "#fde0ef"
            ],
            [
             0.5,
             "#f7f7f7"
            ],
            [
             0.6,
             "#e6f5d0"
            ],
            [
             0.7,
             "#b8e186"
            ],
            [
             0.8,
             "#7fbc41"
            ],
            [
             0.9,
             "#4d9221"
            ],
            [
             1,
             "#276419"
            ]
           ],
           "sequential": [
            [
             0,
             "#0d0887"
            ],
            [
             0.1111111111111111,
             "#46039f"
            ],
            [
             0.2222222222222222,
             "#7201a8"
            ],
            [
             0.3333333333333333,
             "#9c179e"
            ],
            [
             0.4444444444444444,
             "#bd3786"
            ],
            [
             0.5555555555555556,
             "#d8576b"
            ],
            [
             0.6666666666666666,
             "#ed7953"
            ],
            [
             0.7777777777777778,
             "#fb9f3a"
            ],
            [
             0.8888888888888888,
             "#fdca26"
            ],
            [
             1,
             "#f0f921"
            ]
           ],
           "sequentialminus": [
            [
             0,
             "#0d0887"
            ],
            [
             0.1111111111111111,
             "#46039f"
            ],
            [
             0.2222222222222222,
             "#7201a8"
            ],
            [
             0.3333333333333333,
             "#9c179e"
            ],
            [
             0.4444444444444444,
             "#bd3786"
            ],
            [
             0.5555555555555556,
             "#d8576b"
            ],
            [
             0.6666666666666666,
             "#ed7953"
            ],
            [
             0.7777777777777778,
             "#fb9f3a"
            ],
            [
             0.8888888888888888,
             "#fdca26"
            ],
            [
             1,
             "#f0f921"
            ]
           ]
          },
          "colorway": [
           "#636efa",
           "#EF553B",
           "#00cc96",
           "#ab63fa",
           "#FFA15A",
           "#19d3f3",
           "#FF6692",
           "#B6E880",
           "#FF97FF",
           "#FECB52"
          ],
          "font": {
           "color": "#2a3f5f"
          },
          "geo": {
           "bgcolor": "white",
           "lakecolor": "white",
           "landcolor": "#E5ECF6",
           "showlakes": true,
           "showland": true,
           "subunitcolor": "white"
          },
          "hoverlabel": {
           "align": "left"
          },
          "hovermode": "closest",
          "mapbox": {
           "style": "light"
          },
          "paper_bgcolor": "white",
          "plot_bgcolor": "#E5ECF6",
          "polar": {
           "angularaxis": {
            "gridcolor": "white",
            "linecolor": "white",
            "ticks": ""
           },
           "bgcolor": "#E5ECF6",
           "radialaxis": {
            "gridcolor": "white",
            "linecolor": "white",
            "ticks": ""
           }
          },
          "scene": {
           "xaxis": {
            "backgroundcolor": "#E5ECF6",
            "gridcolor": "white",
            "gridwidth": 2,
            "linecolor": "white",
            "showbackground": true,
            "ticks": "",
            "zerolinecolor": "white"
           },
           "yaxis": {
            "backgroundcolor": "#E5ECF6",
            "gridcolor": "white",
            "gridwidth": 2,
            "linecolor": "white",
            "showbackground": true,
            "ticks": "",
            "zerolinecolor": "white"
           },
           "zaxis": {
            "backgroundcolor": "#E5ECF6",
            "gridcolor": "white",
            "gridwidth": 2,
            "linecolor": "white",
            "showbackground": true,
            "ticks": "",
            "zerolinecolor": "white"
           }
          },
          "shapedefaults": {
           "line": {
            "color": "#2a3f5f"
           }
          },
          "ternary": {
           "aaxis": {
            "gridcolor": "white",
            "linecolor": "white",
            "ticks": ""
           },
           "baxis": {
            "gridcolor": "white",
            "linecolor": "white",
            "ticks": ""
           },
           "bgcolor": "#E5ECF6",
           "caxis": {
            "gridcolor": "white",
            "linecolor": "white",
            "ticks": ""
           }
          },
          "title": {
           "x": 0.05
          },
          "xaxis": {
           "automargin": true,
           "gridcolor": "white",
           "linecolor": "white",
           "ticks": "",
           "title": {
            "standoff": 15
           },
           "zerolinecolor": "white",
           "zerolinewidth": 2
          },
          "yaxis": {
           "automargin": true,
           "gridcolor": "white",
           "linecolor": "white",
           "ticks": "",
           "title": {
            "standoff": 15
           },
           "zerolinecolor": "white",
           "zerolinewidth": 2
          }
         }
        },
        "title": {
         "text": "Hyperparameter Importances"
        },
        "xaxis": {
         "title": {
          "text": "Hyperparameter Importance"
         }
        },
        "yaxis": {
         "title": {
          "text": "Hyperparameter"
         }
        }
       }
      },
      "image/png": "[encoded data removed]"
     },
     "metadata": {},
     "output_type": "display_data"
    },
    {
     "data": {
      "application/vnd.plotly.v1+json": {
       "config": {
        "plotlyServerURL": "https://plot.ly"
       },
       "data": [
        {
         "marker": {
          "color": [
           0,
           1,
           5,
           6,
           8,
           9,
           10,
           12,
           16,
           21,
           23,
           33,
           36,
           37,
           43,
           44,
           65,
           68,
           69,
           71
          ],
          "colorbar": {
           "title": {
            "text": "Trial"
           },
           "x": 1,
           "xpad": 40
          },
          "colorscale": [
           [
            0,
            "rgb(247,251,255)"
           ],
           [
            0.125,
            "rgb(222,235,247)"
           ],
           [
            0.25,
            "rgb(198,219,239)"
           ],
           [
            0.375,
            "rgb(158,202,225)"
           ],
           [
            0.5,
            "rgb(107,174,214)"
           ],
           [
            0.625,
            "rgb(66,146,198)"
           ],
           [
            0.75,
            "rgb(33,113,181)"
           ],
           [
            0.875,
            "rgb(8,81,156)"
           ],
           [
            1,
            "rgb(8,48,107)"
           ]
          ],
          "line": {
           "color": "Grey",
           "width": 0.5
          },
          "showscale": true
         },
         "mode": "markers",
         "name": "Feasible Trial",
         "showlegend": false,
         "type": "scatter",
         "x": [
          0.008468008575248327,
          0.06504856968981275,
          0.001124579825911934,
          0.11536162338241392,
          0.005670807781371429,
          0.01174843954800703,
          0.253238990594609,
          0.12795607701688289,
          0.023597384105103633,
          0.17619769721270673,
          0.10721665442549017,
          0.12381053221254733,
          0.23106953064078845,
          0.13939873927664911,
          0.21874518392022435,
          0.29748245365267917,
          0.2668366057624534,
          0.15199494041354802,
          0.15978614310222386,
          0.1476292750234549
         ],
         "xaxis": "x",
         "y": [
          0.9408441453407804,
          0.9488720236822901,
          0.9134920302773709,
          0.9487828225895767,
          0.9264842894325456,
          0.9316445276454637,
          0.9481972354161339,
          0.9487060466490713,
          0.9284869789654924,
          0.9485980153256877,
          0.9487904976835966,
          0.9480469935756712,
          0.9483929478136106,
          0.948849228403048,
          0.9480376134607649,
          0.9476703089612849,
          0.9477183495497818,
          0.9489217942919802,
          0.9487345469982006,
          0.9488406232976354
         ],
         "yaxis": "y"
        },
        {
         "marker": {
          "color": [
           0,
           1,
           5,
           6,
           8,
           9,
           10,
           12,
           16,
           21,
           23,
           33,
           36,
           37,
           43,
           44,
           65,
           68,
           69,
           71
          ],
          "colorbar": {
           "title": {
            "text": "Trial"
           },
           "x": 1,
           "xpad": 40
          },
          "colorscale": [
           [
            0,
            "rgb(247,251,255)"
           ],
           [
            0.125,
            "rgb(222,235,247)"
           ],
           [
            0.25,
            "rgb(198,219,239)"
           ],
           [
            0.375,
            "rgb(158,202,225)"
           ],
           [
            0.5,
            "rgb(107,174,214)"
           ],
           [
            0.625,
            "rgb(66,146,198)"
           ],
           [
            0.75,
            "rgb(33,113,181)"
           ],
           [
            0.875,
            "rgb(8,81,156)"
           ],
           [
            1,
            "rgb(8,48,107)"
           ]
          ],
          "line": {
           "color": "Grey",
           "width": 0.5
          },
          "showscale": false
         },
         "mode": "markers",
         "name": "Feasible Trial",
         "showlegend": false,
         "type": "scatter",
         "x": [
          956,
          639,
          973,
          291,
          572,
          362,
          526,
          549,
          153,
          605,
          646,
          203,
          764,
          598,
          216,
          696,
          667,
          613,
          628,
          656
         ],
         "xaxis": "x2",
         "y": [
          0.9408441453407804,
          0.9488720236822901,
          0.9134920302773709,
          0.9487828225895767,
          0.9264842894325456,
          0.9316445276454637,
          0.9481972354161339,
          0.9487060466490713,
          0.9284869789654924,
          0.9485980153256877,
          0.9487904976835966,
          0.9480469935756712,
          0.9483929478136106,
          0.948849228403048,
          0.9480376134607649,
          0.9476703089612849,
          0.9477183495497818,
          0.9489217942919802,
          0.9487345469982006,
          0.9488406232976354
         ],
         "yaxis": "y2"
        }
       ],
       "layout": {
        "template": {
         "data": {
          "bar": [
           {
            "error_x": {
             "color": "#2a3f5f"
            },
            "error_y": {
             "color": "#2a3f5f"
            },
            "marker": {
             "line": {
              "color": "#E5ECF6",
              "width": 0.5
             },
             "pattern": {
              "fillmode": "overlay",
              "size": 10,
              "solidity": 0.2
             }
            },
            "type": "bar"
           }
          ],
          "barpolar": [
           {
            "marker": {
             "line": {
              "color": "#E5ECF6",
              "width": 0.5
             },
             "pattern": {
              "fillmode": "overlay",
              "size": 10,
              "solidity": 0.2
             }
            },
            "type": "barpolar"
           }
          ],
          "carpet": [
           {
            "aaxis": {
             "endlinecolor": "#2a3f5f",
             "gridcolor": "white",
             "linecolor": "white",
             "minorgridcolor": "white",
             "startlinecolor": "#2a3f5f"
            },
            "baxis": {
             "endlinecolor": "#2a3f5f",
             "gridcolor": "white",
             "linecolor": "white",
             "minorgridcolor": "white",
             "startlinecolor": "#2a3f5f"
            },
            "type": "carpet"
           }
          ],
          "choropleth": [
           {
            "colorbar": {
             "outlinewidth": 0,
             "ticks": ""
            },
            "type": "choropleth"
           }
          ],
          "contour": [
           {
            "colorbar": {
             "outlinewidth": 0,
             "ticks": ""
            },
            "colorscale": [
             [
              0,
              "#0d0887"
             ],
             [
              0.1111111111111111,
              "#46039f"
             ],
             [
              0.2222222222222222,
              "#7201a8"
             ],
             [
              0.3333333333333333,
              "#9c179e"
             ],
             [
              0.4444444444444444,
              "#bd3786"
             ],
             [
              0.5555555555555556,
              "#d8576b"
             ],
             [
              0.6666666666666666,
              "#ed7953"
             ],
             [
              0.7777777777777778,
              "#fb9f3a"
             ],
             [
              0.8888888888888888,
              "#fdca26"
             ],
             [
              1,
              "#f0f921"
             ]
            ],
            "type": "contour"
           }
          ],
          "contourcarpet": [
           {
            "colorbar": {
             "outlinewidth": 0,
             "ticks": ""
            },
            "type": "contourcarpet"
           }
          ],
          "heatmap": [
           {
            "colorbar": {
             "outlinewidth": 0,
             "ticks": ""
            },
            "colorscale": [
             [
              0,
              "#0d0887"
             ],
             [
              0.1111111111111111,
              "#46039f"
             ],
             [
              0.2222222222222222,
              "#7201a8"
             ],
             [
              0.3333333333333333,
              "#9c179e"
             ],
             [
              0.4444444444444444,
              "#bd3786"
             ],
             [
              0.5555555555555556,
              "#d8576b"
             ],
             [
              0.6666666666666666,
              "#ed7953"
             ],
             [
              0.7777777777777778,
              "#fb9f3a"
             ],
             [
              0.8888888888888888,
              "#fdca26"
             ],
             [
              1,
              "#f0f921"
             ]
            ],
            "type": "heatmap"
           }
          ],
          "histogram": [
           {
            "marker": {
             "pattern": {
              "fillmode": "overlay",
              "size": 10,
              "solidity": 0.2
             }
            },
            "type": "histogram"
           }
          ],
          "histogram2d": [
           {
            "colorbar": {
             "outlinewidth": 0,
             "ticks": ""
            },
            "colorscale": [
             [
              0,
              "#0d0887"
             ],
             [
              0.1111111111111111,
              "#46039f"
             ],
             [
              0.2222222222222222,
              "#7201a8"
             ],
             [
              0.3333333333333333,
              "#9c179e"
             ],
             [
              0.4444444444444444,
              "#bd3786"
             ],
             [
              0.5555555555555556,
              "#d8576b"
             ],
             [
              0.6666666666666666,
              "#ed7953"
             ],
             [
              0.7777777777777778,
              "#fb9f3a"
             ],
             [
              0.8888888888888888,
              "#fdca26"
             ],
             [
              1,
              "#f0f921"
             ]
            ],
            "type": "histogram2d"
           }
          ],
          "histogram2dcontour": [
           {
            "colorbar": {
             "outlinewidth": 0,
             "ticks": ""
            },
            "colorscale": [
             [
              0,
              "#0d0887"
             ],
             [
              0.1111111111111111,
              "#46039f"
             ],
             [
              0.2222222222222222,
              "#7201a8"
             ],
             [
              0.3333333333333333,
              "#9c179e"
             ],
             [
              0.4444444444444444,
              "#bd3786"
             ],
             [
              0.5555555555555556,
              "#d8576b"
             ],
             [
              0.6666666666666666,
              "#ed7953"
             ],
             [
              0.7777777777777778,
              "#fb9f3a"
             ],
             [
              0.8888888888888888,
              "#fdca26"
             ],
             [
              1,
              "#f0f921"
             ]
            ],
            "type": "histogram2dcontour"
           }
          ],
          "mesh3d": [
           {
            "colorbar": {
             "outlinewidth": 0,
             "ticks": ""
            },
            "type": "mesh3d"
           }
          ],
          "parcoords": [
           {
            "line": {
             "colorbar": {
              "outlinewidth": 0,
              "ticks": ""
             }
            },
            "type": "parcoords"
           }
          ],
          "pie": [
           {
            "automargin": true,
            "type": "pie"
           }
          ],
          "scatter": [
           {
            "fillpattern": {
             "fillmode": "overlay",
             "size": 10,
             "solidity": 0.2
            },
            "type": "scatter"
           }
          ],
          "scatter3d": [
           {
            "line": {
             "colorbar": {
              "outlinewidth": 0,
              "ticks": ""
             }
            },
            "marker": {
             "colorbar": {
              "outlinewidth": 0,
              "ticks": ""
             }
            },
            "type": "scatter3d"
           }
          ],
          "scattercarpet": [
           {
            "marker": {
             "colorbar": {
              "outlinewidth": 0,
              "ticks": ""
             }
            },
            "type": "scattercarpet"
           }
          ],
          "scattergeo": [
           {
            "marker": {
             "colorbar": {
              "outlinewidth": 0,
              "ticks": ""
             }
            },
            "type": "scattergeo"
           }
          ],
          "scattergl": [
           {
            "marker": {
             "colorbar": {
              "outlinewidth": 0,
              "ticks": ""
             }
            },
            "type": "scattergl"
           }
          ],
          "scattermap": [
           {
            "marker": {
             "colorbar": {
              "outlinewidth": 0,
              "ticks": ""
             }
            },
            "type": "scattermap"
           }
          ],
          "scattermapbox": [
           {
            "marker": {
             "colorbar": {
              "outlinewidth": 0,
              "ticks": ""
             }
            },
            "type": "scattermapbox"
           }
          ],
          "scatterpolar": [
           {
            "marker": {
             "colorbar": {
              "outlinewidth": 0,
              "ticks": ""
             }
            },
            "type": "scatterpolar"
           }
          ],
          "scatterpolargl": [
           {
            "marker": {
             "colorbar": {
              "outlinewidth": 0,
              "ticks": ""
             }
            },
            "type": "scatterpolargl"
           }
          ],
          "scatterternary": [
           {
            "marker": {
             "colorbar": {
              "outlinewidth": 0,
              "ticks": ""
             }
            },
            "type": "scatterternary"
           }
          ],
          "surface": [
           {
            "colorbar": {
             "outlinewidth": 0,
             "ticks": ""
            },
            "colorscale": [
             [
              0,
              "#0d0887"
             ],
             [
              0.1111111111111111,
              "#46039f"
             ],
             [
              0.2222222222222222,
              "#7201a8"
             ],
             [
              0.3333333333333333,
              "#9c179e"
             ],
             [
              0.4444444444444444,
              "#bd3786"
             ],
             [
              0.5555555555555556,
              "#d8576b"
             ],
             [
              0.6666666666666666,
              "#ed7953"
             ],
             [
              0.7777777777777778,
              "#fb9f3a"
             ],
             [
              0.8888888888888888,
              "#fdca26"
             ],
             [
              1,
              "#f0f921"
             ]
            ],
            "type": "surface"
           }
          ],
          "table": [
           {
            "cells": {
             "fill": {
              "color": "#EBF0F8"
             },
             "line": {
              "color": "white"
             }
            },
            "header": {
             "fill": {
              "color": "#C8D4E3"
             },
             "line": {
              "color": "white"
             }
            },
            "type": "table"
           }
          ]
         },
         "layout": {
          "annotationdefaults": {
           "arrowcolor": "#2a3f5f",
           "arrowhead": 0,
           "arrowwidth": 1
          },
          "autotypenumbers": "strict",
          "coloraxis": {
           "colorbar": {
            "outlinewidth": 0,
            "ticks": ""
           }
          },
          "colorscale": {
           "diverging": [
            [
             0,
             "#8e0152"
            ],
            [
             0.1,
             "#c51b7d"
            ],
            [
             0.2,
             "#de77ae"
            ],
            [
             0.3,
             "#f1b6da"
            ],
            [
             0.4,
             "#fde0ef"
            ],
            [
             0.5,
             "#f7f7f7"
            ],
            [
             0.6,
             "#e6f5d0"
            ],
            [
             0.7,
             "#b8e186"
            ],
            [
             0.8,
             "#7fbc41"
            ],
            [
             0.9,
             "#4d9221"
            ],
            [
             1,
             "#276419"
            ]
           ],
           "sequential": [
            [
             0,
             "#0d0887"
            ],
            [
             0.1111111111111111,
             "#46039f"
            ],
            [
             0.2222222222222222,
             "#7201a8"
            ],
            [
             0.3333333333333333,
             "#9c179e"
            ],
            [
             0.4444444444444444,
             "#bd3786"
            ],
            [
             0.5555555555555556,
             "#d8576b"
            ],
            [
             0.6666666666666666,
             "#ed7953"
            ],
            [
             0.7777777777777778,
             "#fb9f3a"
            ],
            [
             0.8888888888888888,
             "#fdca26"
            ],
            [
             1,
             "#f0f921"
            ]
           ],
           "sequentialminus": [
            [
             0,
             "#0d0887"
            ],
            [
             0.1111111111111111,
             "#46039f"
            ],
            [
             0.2222222222222222,
             "#7201a8"
            ],
            [
             0.3333333333333333,
             "#9c179e"
            ],
            [
             0.4444444444444444,
             "#bd3786"
            ],
            [
             0.5555555555555556,
             "#d8576b"
            ],
            [
             0.6666666666666666,
             "#ed7953"
            ],
            [
             0.7777777777777778,
             "#fb9f3a"
            ],
            [
             0.8888888888888888,
             "#fdca26"
            ],
            [
             1,
             "#f0f921"
            ]
           ]
          },
          "colorway": [
           "#636efa",
           "#EF553B",
           "#00cc96",
           "#ab63fa",
           "#FFA15A",
           "#19d3f3",
           "#FF6692",
           "#B6E880",
           "#FF97FF",
           "#FECB52"
          ],
          "font": {
           "color": "#2a3f5f"
          },
          "geo": {
           "bgcolor": "white",
           "lakecolor": "white",
           "landcolor": "#E5ECF6",
           "showlakes": true,
           "showland": true,
           "subunitcolor": "white"
          },
          "hoverlabel": {
           "align": "left"
          },
          "hovermode": "closest",
          "mapbox": {
           "style": "light"
          },
          "paper_bgcolor": "white",
          "plot_bgcolor": "#E5ECF6",
          "polar": {
           "angularaxis": {
            "gridcolor": "white",
            "linecolor": "white",
            "ticks": ""
           },
           "bgcolor": "#E5ECF6",
           "radialaxis": {
            "gridcolor": "white",
            "linecolor": "white",
            "ticks": ""
           }
          },
          "scene": {
           "xaxis": {
            "backgroundcolor": "#E5ECF6",
            "gridcolor": "white",
            "gridwidth": 2,
            "linecolor": "white",
            "showbackground": true,
            "ticks": "",
            "zerolinecolor": "white"
           },
           "yaxis": {
            "backgroundcolor": "#E5ECF6",
            "gridcolor": "white",
            "gridwidth": 2,
            "linecolor": "white",
            "showbackground": true,
            "ticks": "",
            "zerolinecolor": "white"
           },
           "zaxis": {
            "backgroundcolor": "#E5ECF6",
            "gridcolor": "white",
            "gridwidth": 2,
            "linecolor": "white",
            "showbackground": true,
            "ticks": "",
            "zerolinecolor": "white"
           }
          },
          "shapedefaults": {
           "line": {
            "color": "#2a3f5f"
           }
          },
          "ternary": {
           "aaxis": {
            "gridcolor": "white",
            "linecolor": "white",
            "ticks": ""
           },
           "baxis": {
            "gridcolor": "white",
            "linecolor": "white",
            "ticks": ""
           },
           "bgcolor": "#E5ECF6",
           "caxis": {
            "gridcolor": "white",
            "linecolor": "white",
            "ticks": ""
           }
          },
          "title": {
           "x": 0.05
          },
          "xaxis": {
           "automargin": true,
           "gridcolor": "white",
           "linecolor": "white",
           "ticks": "",
           "title": {
            "standoff": 15
           },
           "zerolinecolor": "white",
           "zerolinewidth": 2
          },
          "yaxis": {
           "automargin": true,
           "gridcolor": "white",
           "linecolor": "white",
           "ticks": "",
           "title": {
            "standoff": 15
           },
           "zerolinecolor": "white",
           "zerolinewidth": 2
          }
         }
        },
        "title": {
         "text": "Slice Plot"
        },
        "xaxis": {
         "anchor": "y",
         "domain": [
          0,
          0.45
         ],
         "title": {
          "text": "learning_rate"
         },
         "type": "log"
        },
        "xaxis2": {
         "anchor": "y2",
         "domain": [
          0.55,
          1
         ],
         "title": {
          "text": "n_estimators"
         }
        },
        "yaxis": {
         "anchor": "x",
         "domain": [
          0,
          1
         ],
         "title": {
          "text": "Objective Value"
         }
        },
        "yaxis2": {
         "anchor": "x2",
         "domain": [
          0,
          1
         ],
         "matches": "y",
         "showticklabels": false
        }
       }
      },
      "image/png": "[encoded data removed]"
     },
     "metadata": {},
     "output_type": "display_data"
    },
    {
     "data": {
      "application/vnd.plotly.v1+json": {
       "config": {
        "plotlyServerURL": "https://plot.ly"
       },
       "data": [
        {
         "marker": {
          "color": [
           0,
           1,
           5,
           6,
           8,
           9,
           10,
           12,
           16,
           21,
           23,
           33,
           36,
           37,
           43,
           44,
           65,
           68,
           69,
           71
          ],
          "colorbar": {
           "title": {
            "text": "Trial"
           },
           "x": 1,
           "xpad": 40
          },
          "colorscale": [
           [
            0,
            "rgb(247,251,255)"
           ],
           [
            0.125,
            "rgb(222,235,247)"
           ],
           [
            0.25,
            "rgb(198,219,239)"
           ],
           [
            0.375,
            "rgb(158,202,225)"
           ],
           [
            0.5,
            "rgb(107,174,214)"
           ],
           [
            0.625,
            "rgb(66,146,198)"
           ],
           [
            0.75,
            "rgb(33,113,181)"
           ],
           [
            0.875,
            "rgb(8,81,156)"
           ],
           [
            1,
            "rgb(8,48,107)"
           ]
          ],
          "line": {
           "color": "Grey",
           "width": 0.5
          },
          "showscale": true
         },
         "mode": "markers",
         "name": "Feasible Trial",
         "showlegend": false,
         "type": "scatter",
         "x": [
          0.008468008575248327,
          0.06504856968981275,
          0.001124579825911934,
          0.11536162338241392,
          0.005670807781371429,
          0.01174843954800703,
          0.253238990594609,
          0.12795607701688289,
          0.023597384105103633,
          0.17619769721270673,
          0.10721665442549017,
          0.12381053221254733,
          0.23106953064078845,
          0.13939873927664911,
          0.21874518392022435,
          0.29748245365267917,
          0.2668366057624534,
          0.15199494041354802,
          0.15978614310222386,
          0.1476292750234549
         ],
         "xaxis": "x",
         "y": [
          0.9408441453407804,
          0.9488720236822901,
          0.9134920302773709,
          0.9487828225895767,
          0.9264842894325456,
          0.9316445276454637,
          0.9481972354161339,
          0.9487060466490713,
          0.9284869789654924,
          0.9485980153256877,
          0.9487904976835966,
          0.9480469935756712,
          0.9483929478136106,
          0.948849228403048,
          0.9480376134607649,
          0.9476703089612849,
          0.9477183495497818,
          0.9489217942919802,
          0.9487345469982006,
          0.9488406232976354
         ],
         "yaxis": "y"
        },
        {
         "marker": {
          "color": [
           0,
           1,
           5,
           6,
           8,
           9,
           10,
           12,
           16,
           21,
           23,
           33,
           36,
           37,
           43,
           44,
           65,
           68,
           69,
           71
          ],
          "colorbar": {
           "title": {
            "text": "Trial"
           },
           "x": 1,
           "xpad": 40
          },
          "colorscale": [
           [
            0,
            "rgb(247,251,255)"
           ],
           [
            0.125,
            "rgb(222,235,247)"
           ],
           [
            0.25,
            "rgb(198,219,239)"
           ],
           [
            0.375,
            "rgb(158,202,225)"
           ],
           [
            0.5,
            "rgb(107,174,214)"
           ],
           [
            0.625,
            "rgb(66,146,198)"
           ],
           [
            0.75,
            "rgb(33,113,181)"
           ],
           [
            0.875,
            "rgb(8,81,156)"
           ],
           [
            1,
            "rgb(8,48,107)"
           ]
          ],
          "line": {
           "color": "Grey",
           "width": 0.5
          },
          "showscale": false
         },
         "mode": "markers",
         "name": "Feasible Trial",
         "showlegend": false,
         "type": "scatter",
         "x": [
          956,
          639,
          973,
          291,
          572,
          362,
          526,
          549,
          153,
          605,
          646,
          203,
          764,
          598,
          216,
          696,
          667,
          613,
          628,
          656
         ],
         "xaxis": "x2",
         "y": [
          0.9408441453407804,
          0.9488720236822901,
          0.9134920302773709,
          0.9487828225895767,
          0.9264842894325456,
          0.9316445276454637,
          0.9481972354161339,
          0.9487060466490713,
          0.9284869789654924,
          0.9485980153256877,
          0.9487904976835966,
          0.9480469935756712,
          0.9483929478136106,
          0.948849228403048,
          0.9480376134607649,
          0.9476703089612849,
          0.9477183495497818,
          0.9489217942919802,
          0.9487345469982006,
          0.9488406232976354
         ],
         "yaxis": "y2"
        }
       ],
       "layout": {
        "template": {
         "data": {
          "bar": [
           {
            "error_x": {
             "color": "#2a3f5f"
            },
            "error_y": {
             "color": "#2a3f5f"
            },
            "marker": {
             "line": {
              "color": "#E5ECF6",
              "width": 0.5
             },
             "pattern": {
              "fillmode": "overlay",
              "size": 10,
              "solidity": 0.2
             }
            },
            "type": "bar"
           }
          ],
          "barpolar": [
           {
            "marker": {
             "line": {
              "color": "#E5ECF6",
              "width": 0.5
             },
             "pattern": {
              "fillmode": "overlay",
              "size": 10,
              "solidity": 0.2
             }
            },
            "type": "barpolar"
           }
          ],
          "carpet": [
           {
            "aaxis": {
             "endlinecolor": "#2a3f5f",
             "gridcolor": "white",
             "linecolor": "white",
             "minorgridcolor": "white",
             "startlinecolor": "#2a3f5f"
            },
            "baxis": {
             "endlinecolor": "#2a3f5f",
             "gridcolor": "white",
             "linecolor": "white",
             "minorgridcolor": "white",
             "startlinecolor": "#2a3f5f"
            },
            "type": "carpet"
           }
          ],
          "choropleth": [
           {
            "colorbar": {
             "outlinewidth": 0,
             "ticks": ""
            },
            "type": "choropleth"
           }
          ],
          "contour": [
           {
            "colorbar": {
             "outlinewidth": 0,
             "ticks": ""
            },
            "colorscale": [
             [
              0,
              "#0d0887"
             ],
             [
              0.1111111111111111,
              "#46039f"
             ],
             [
              0.2222222222222222,
              "#7201a8"
             ],
             [
              0.3333333333333333,
              "#9c179e"
             ],
             [
              0.4444444444444444,
              "#bd3786"
             ],
             [
              0.5555555555555556,
              "#d8576b"
             ],
             [
              0.6666666666666666,
              "#ed7953"
             ],
             [
              0.7777777777777778,
              "#fb9f3a"
             ],
             [
              0.8888888888888888,
              "#fdca26"
             ],
             [
              1,
              "#f0f921"
             ]
            ],
            "type": "contour"
           }
          ],
          "contourcarpet": [
           {
            "colorbar": {
             "outlinewidth": 0,
             "ticks": ""
            },
            "type": "contourcarpet"
           }
          ],
          "heatmap": [
           {
            "colorbar": {
             "outlinewidth": 0,
             "ticks": ""
            },
            "colorscale": [
             [
              0,
              "#0d0887"
             ],
             [
              0.1111111111111111,
              "#46039f"
             ],
             [
              0.2222222222222222,
              "#7201a8"
             ],
             [
              0.3333333333333333,
              "#9c179e"
             ],
             [
              0.4444444444444444,
              "#bd3786"
             ],
             [
              0.5555555555555556,
              "#d8576b"
             ],
             [
              0.6666666666666666,
              "#ed7953"
             ],
             [
              0.7777777777777778,
              "#fb9f3a"
             ],
             [
              0.8888888888888888,
              "#fdca26"
             ],
             [
              1,
              "#f0f921"
             ]
            ],
            "type": "heatmap"
           }
          ],
          "histogram": [
           {
            "marker": {
             "pattern": {
              "fillmode": "overlay",
              "size": 10,
              "solidity": 0.2
             }
            },
            "type": "histogram"
           }
          ],
          "histogram2d": [
           {
            "colorbar": {
             "outlinewidth": 0,
             "ticks": ""
            },
            "colorscale": [
             [
              0,
              "#0d0887"
             ],
             [
              0.1111111111111111,
              "#46039f"
             ],
             [
              0.2222222222222222,
              "#7201a8"
             ],
             [
              0.3333333333333333,
              "#9c179e"
             ],
             [
              0.4444444444444444,
              "#bd3786"
             ],
             [
              0.5555555555555556,
              "#d8576b"
             ],
             [
              0.6666666666666666,
              "#ed7953"
             ],
             [
              0.7777777777777778,
              "#fb9f3a"
             ],
             [
              0.8888888888888888,
              "#fdca26"
             ],
             [
              1,
              "#f0f921"
             ]
            ],
            "type": "histogram2d"
           }
          ],
          "histogram2dcontour": [
           {
            "colorbar": {
             "outlinewidth": 0,
             "ticks": ""
            },
            "colorscale": [
             [
              0,
              "#0d0887"
             ],
             [
              0.1111111111111111,
              "#46039f"
             ],
             [
              0.2222222222222222,
              "#7201a8"
             ],
             [
              0.3333333333333333,
              "#9c179e"
             ],
             [
              0.4444444444444444,
              "#bd3786"
             ],
             [
              0.5555555555555556,
              "#d8576b"
             ],
             [
              0.6666666666666666,
              "#ed7953"
             ],
             [
              0.7777777777777778,
              "#fb9f3a"
             ],
             [
              0.8888888888888888,
              "#fdca26"
             ],
             [
              1,
              "#f0f921"
             ]
            ],
            "type": "histogram2dcontour"
           }
          ],
          "mesh3d": [
           {
            "colorbar": {
             "outlinewidth": 0,
             "ticks": ""
            },
            "type": "mesh3d"
           }
          ],
          "parcoords": [
           {
            "line": {
             "colorbar": {
              "outlinewidth": 0,
              "ticks": ""
             }
            },
            "type": "parcoords"
           }
          ],
          "pie": [
           {
            "automargin": true,
            "type": "pie"
           }
          ],
          "scatter": [
           {
            "fillpattern": {
             "fillmode": "overlay",
             "size": 10,
             "solidity": 0.2
            },
            "type": "scatter"
           }
          ],
          "scatter3d": [
           {
            "line": {
             "colorbar": {
              "outlinewidth": 0,
              "ticks": ""
             }
            },
            "marker": {
             "colorbar": {
              "outlinewidth": 0,
              "ticks": ""
             }
            },
            "type": "scatter3d"
           }
          ],
          "scattercarpet": [
           {
            "marker": {
             "colorbar": {
              "outlinewidth": 0,
              "ticks": ""
             }
            },
            "type": "scattercarpet"
           }
          ],
          "scattergeo": [
           {
            "marker": {
             "colorbar": {
              "outlinewidth": 0,
              "ticks": ""
             }
            },
            "type": "scattergeo"
           }
          ],
          "scattergl": [
           {
            "marker": {
             "colorbar": {
              "outlinewidth": 0,
              "ticks": ""
             }
            },
            "type": "scattergl"
           }
          ],
          "scattermap": [
           {
            "marker": {
             "colorbar": {
              "outlinewidth": 0,
              "ticks": ""
             }
            },
            "type": "scattermap"
           }
          ],
          "scattermapbox": [
           {
            "marker": {
             "colorbar": {
              "outlinewidth": 0,
              "ticks": ""
             }
            },
            "type": "scattermapbox"
           }
          ],
          "scatterpolar": [
           {
            "marker": {
             "colorbar": {
              "outlinewidth": 0,
              "ticks": ""
             }
            },
            "type": "scatterpolar"
           }
          ],
          "scatterpolargl": [
           {
            "marker": {
             "colorbar": {
              "outlinewidth": 0,
              "ticks": ""
             }
            },
            "type": "scatterpolargl"
           }
          ],
          "scatterternary": [
           {
            "marker": {
             "colorbar": {
              "outlinewidth": 0,
              "ticks": ""
             }
            },
            "type": "scatterternary"
           }
          ],
          "surface": [
           {
            "colorbar": {
             "outlinewidth": 0,
             "ticks": ""
            },
            "colorscale": [
             [
              0,
              "#0d0887"
             ],
             [
              0.1111111111111111,
              "#46039f"
             ],
             [
              0.2222222222222222,
              "#7201a8"
             ],
             [
              0.3333333333333333,
              "#9c179e"
             ],
             [
              0.4444444444444444,
              "#bd3786"
             ],
             [
              0.5555555555555556,
              "#d8576b"
             ],
             [
              0.6666666666666666,
              "#ed7953"
             ],
             [
              0.7777777777777778,
              "#fb9f3a"
             ],
             [
              0.8888888888888888,
              "#fdca26"
             ],
             [
              1,
              "#f0f921"
             ]
            ],
            "type": "surface"
           }
          ],
          "table": [
           {
            "cells": {
             "fill": {
              "color": "#EBF0F8"
             },
             "line": {
              "color": "white"
             }
            },
            "header": {
             "fill": {
              "color": "#C8D4E3"
             },
             "line": {
              "color": "white"
             }
            },
            "type": "table"
           }
          ]
         },
         "layout": {
          "annotationdefaults": {
           "arrowcolor": "#2a3f5f",
           "arrowhead": 0,
           "arrowwidth": 1
          },
          "autotypenumbers": "strict",
          "coloraxis": {
           "colorbar": {
            "outlinewidth": 0,
            "ticks": ""
           }
          },
          "colorscale": {
           "diverging": [
            [
             0,
             "#8e0152"
            ],
            [
             0.1,
             "#c51b7d"
            ],
            [
             0.2,
             "#de77ae"
            ],
            [
             0.3,
             "#f1b6da"
            ],
            [
             0.4,
             "#fde0ef"
            ],
            [
             0.5,
             "#f7f7f7"
            ],
            [
             0.6,
             "#e6f5d0"
            ],
            [
             0.7,
             "#b8e186"
            ],
            [
             0.8,
             "#7fbc41"
            ],
            [
             0.9,
             "#4d9221"
            ],
            [
             1,
             "#276419"
            ]
           ],
           "sequential": [
            [
             0,
             "#0d0887"
            ],
            [
             0.1111111111111111,
             "#46039f"
            ],
            [
             0.2222222222222222,
             "#7201a8"
            ],
            [
             0.3333333333333333,
             "#9c179e"
            ],
            [
             0.4444444444444444,
             "#bd3786"
            ],
            [
             0.5555555555555556,
             "#d8576b"
            ],
            [
             0.6666666666666666,
             "#ed7953"
            ],
            [
             0.7777777777777778,
             "#fb9f3a"
            ],
            [
             0.8888888888888888,
             "#fdca26"
            ],
            [
             1,
             "#f0f921"
            ]
           ],
           "sequentialminus": [
            [
             0,
             "#0d0887"
            ],
            [
             0.1111111111111111,
             "#46039f"
            ],
            [
             0.2222222222222222,
             "#7201a8"
            ],
            [
             0.3333333333333333,
             "#9c179e"
            ],
            [
             0.4444444444444444,
             "#bd3786"
            ],
            [
             0.5555555555555556,
             "#d8576b"
            ],
            [
             0.6666666666666666,
             "#ed7953"
            ],
            [
             0.7777777777777778,
             "#fb9f3a"
            ],
            [
             0.8888888888888888,
             "#fdca26"
            ],
            [
             1,
             "#f0f921"
            ]
           ]
          },
          "colorway": [
           "#636efa",
           "#EF553B",
           "#00cc96",
           "#ab63fa",
           "#FFA15A",
           "#19d3f3",
           "#FF6692",
           "#B6E880",
           "#FF97FF",
           "#FECB52"
          ],
          "font": {
           "color": "#2a3f5f"
          },
          "geo": {
           "bgcolor": "white",
           "lakecolor": "white",
           "landcolor": "#E5ECF6",
           "showlakes": true,
           "showland": true,
           "subunitcolor": "white"
          },
          "hoverlabel": {
           "align": "left"
          },
          "hovermode": "closest",
          "mapbox": {
           "style": "light"
          },
          "paper_bgcolor": "white",
          "plot_bgcolor": "#E5ECF6",
          "polar": {
           "angularaxis": {
            "gridcolor": "white",
            "linecolor": "white",
            "ticks": ""
           },
           "bgcolor": "#E5ECF6",
           "radialaxis": {
            "gridcolor": "white",
            "linecolor": "white",
            "ticks": ""
           }
          },
          "scene": {
           "xaxis": {
            "backgroundcolor": "#E5ECF6",
            "gridcolor": "white",
            "gridwidth": 2,
            "linecolor": "white",
            "showbackground": true,
            "ticks": "",
            "zerolinecolor": "white"
           },
           "yaxis": {
            "backgroundcolor": "#E5ECF6",
            "gridcolor": "white",
            "gridwidth": 2,
            "linecolor": "white",
            "showbackground": true,
            "ticks": "",
            "zerolinecolor": "white"
           },
           "zaxis": {
            "backgroundcolor": "#E5ECF6",
            "gridcolor": "white",
            "gridwidth": 2,
            "linecolor": "white",
            "showbackground": true,
            "ticks": "",
            "zerolinecolor": "white"
           }
          },
          "shapedefaults": {
           "line": {
            "color": "#2a3f5f"
           }
          },
          "ternary": {
           "aaxis": {
            "gridcolor": "white",
            "linecolor": "white",
            "ticks": ""
           },
           "baxis": {
            "gridcolor": "white",
            "linecolor": "white",
            "ticks": ""
           },
           "bgcolor": "#E5ECF6",
           "caxis": {
            "gridcolor": "white",
            "linecolor": "white",
            "ticks": ""
           }
          },
          "title": {
           "x": 0.05
          },
          "xaxis": {
           "automargin": true,
           "gridcolor": "white",
           "linecolor": "white",
           "ticks": "",
           "title": {
            "standoff": 15
           },
           "zerolinecolor": "white",
           "zerolinewidth": 2
          },
          "yaxis": {
           "automargin": true,
           "gridcolor": "white",
           "linecolor": "white",
           "ticks": "",
           "title": {
            "standoff": 15
           },
           "zerolinecolor": "white",
           "zerolinewidth": 2
          }
         }
        },
        "title": {
         "text": "Slice Plot"
        },
        "xaxis": {
         "anchor": "y",
         "domain": [
          0,
          0.45
         ],
         "title": {
          "text": "learning_rate"
         },
         "type": "log"
        },
        "xaxis2": {
         "anchor": "y2",
         "domain": [
          0.55,
          1
         ],
         "title": {
          "text": "n_estimators"
         }
        },
        "yaxis": {
         "anchor": "x",
         "domain": [
          0,
          1
         ],
         "title": {
          "text": "Objective Value"
         }
        },
        "yaxis2": {
         "anchor": "x2",
         "domain": [
          0,
          1
         ],
         "matches": "y",
         "showticklabels": false
        }
       }
      },
      "image/png": "[encoded data removed]"
     },
     "metadata": {},
     "output_type": "display_data"
    },
    {
     "data": {
      "application/vnd.plotly.v1+json": {
       "config": {
        "plotlyServerURL": "https://plot.ly"
       },
       "data": [
        {
         "dimensions": [
          {
           "label": "Objective Value",
           "range": [
            0.9134920302773709,
            0.9489217942919802
           ],
           "values": [
            0.9408441453407804,
            0.9488720236822901,
            0.9134920302773709,
            0.9487828225895767,
            0.9264842894325456,
            0.9316445276454637,
            0.9481972354161339,
            0.9487060466490713,
            0.9284869789654924,
            0.9485980153256877,
            0.9487904976835966,
            0.9480469935756712,
            0.9483929478136106,
            0.948849228403048,
            0.9480376134607649,
            0.9476703089612849,
            0.9477183495497818,
            0.9489217942919802,
            0.9487345469982006,
            0.9488406232976354
           ]
          },
          {
           "label": "learning_rate",
           "range": [
            -2.949009711662212,
            -0.5265386450834899
           ],
           "ticktext": [
            "0.00112",
            "0.01",
            "0.1",
            "0.297"
           ],
           "tickvals": [
            -2.949009711662212,
            -2,
            -1,
            -0.5265386450834899
           ],
           "values": [
            -2.07221871085797,
            -1.1867622484129408,
            -2.949009711662212,
            -0.9379386411383099,
            -2.2463550733813453,
            -1.9300198134513342,
            -0.5964694262359598,
            -0.8929390833428327,
            -1.6271361382030298,
            -0.7539997718283391,
            -0.9697377485676907,
            -0.9072424095385672,
            -0.6362573178137501,
            -0.8557411539831342,
            -0.6600614999966022,
            -0.5265386450834899,
            -0.5737545923336959,
            -0.8181708685489706,
            -0.7964608860681907,
            -0.8308275129705414
           ]
          },
          {
           "label": "n_estimators",
           "range": [
            153,
            973
           ],
           "values": [
            956,
            639,
            973,
            291,
            572,
            362,
            526,
            549,
            153,
            605,
            646,
            203,
            764,
            598,
            216,
            696,
            667,
            613,
            628,
            656
           ]
          }
         ],
         "labelangle": 30,
         "labelside": "bottom",
         "line": {
          "color": [
           0.9408441453407804,
           0.9488720236822901,
           0.9134920302773709,
           0.9487828225895767,
           0.9264842894325456,
           0.9316445276454637,
           0.9481972354161339,
           0.9487060466490713,
           0.9284869789654924,
           0.9485980153256877,
           0.9487904976835966,
           0.9480469935756712,
           0.9483929478136106,
           0.948849228403048,
           0.9480376134607649,
           0.9476703089612849,
           0.9477183495497818,
           0.9489217942919802,
           0.9487345469982006,
           0.9488406232976354
          ],
          "colorbar": {
           "title": {
            "text": "Objective Value"
           }
          },
          "colorscale": [
           [
            0,
            "rgb(247,251,255)"
           ],
           [
            0.125,
            "rgb(222,235,247)"
           ],
           [
            0.25,
            "rgb(198,219,239)"
           ],
           [
            0.375,
            "rgb(158,202,225)"
           ],
           [
            0.5,
            "rgb(107,174,214)"
           ],
           [
            0.625,
            "rgb(66,146,198)"
           ],
           [
            0.75,
            "rgb(33,113,181)"
           ],
           [
            0.875,
            "rgb(8,81,156)"
           ],
           [
            1,
            "rgb(8,48,107)"
           ]
          ],
          "reversescale": false,
          "showscale": true
         },
         "type": "parcoords"
        }
       ],
       "layout": {
        "template": {
         "data": {
          "bar": [
           {
            "error_x": {
             "color": "#2a3f5f"
            },
            "error_y": {
             "color": "#2a3f5f"
            },
            "marker": {
             "line": {
              "color": "#E5ECF6",
              "width": 0.5
             },
             "pattern": {
              "fillmode": "overlay",
              "size": 10,
              "solidity": 0.2
             }
            },
            "type": "bar"
           }
          ],
          "barpolar": [
           {
            "marker": {
             "line": {
              "color": "#E5ECF6",
              "width": 0.5
             },
             "pattern": {
              "fillmode": "overlay",
              "size": 10,
              "solidity": 0.2
             }
            },
            "type": "barpolar"
           }
          ],
          "carpet": [
           {
            "aaxis": {
             "endlinecolor": "#2a3f5f",
             "gridcolor": "white",
             "linecolor": "white",
             "minorgridcolor": "white",
             "startlinecolor": "#2a3f5f"
            },
            "baxis": {
             "endlinecolor": "#2a3f5f",
             "gridcolor": "white",
             "linecolor": "white",
             "minorgridcolor": "white",
             "startlinecolor": "#2a3f5f"
            },
            "type": "carpet"
           }
          ],
          "choropleth": [
           {
            "colorbar": {
             "outlinewidth": 0,
             "ticks": ""
            },
            "type": "choropleth"
           }
          ],
          "contour": [
           {
            "colorbar": {
             "outlinewidth": 0,
             "ticks": ""
            },
            "colorscale": [
             [
              0,
              "#0d0887"
             ],
             [
              0.1111111111111111,
              "#46039f"
             ],
             [
              0.2222222222222222,
              "#7201a8"
             ],
             [
              0.3333333333333333,
              "#9c179e"
             ],
             [
              0.4444444444444444,
              "#bd3786"
             ],
             [
              0.5555555555555556,
              "#d8576b"
             ],
             [
              0.6666666666666666,
              "#ed7953"
             ],
             [
              0.7777777777777778,
              "#fb9f3a"
             ],
             [
              0.8888888888888888,
              "#fdca26"
             ],
             [
              1,
              "#f0f921"
             ]
            ],
            "type": "contour"
           }
          ],
          "contourcarpet": [
           {
            "colorbar": {
             "outlinewidth": 0,
             "ticks": ""
            },
            "type": "contourcarpet"
           }
          ],
          "heatmap": [
           {
            "colorbar": {
             "outlinewidth": 0,
             "ticks": ""
            },
            "colorscale": [
             [
              0,
              "#0d0887"
             ],
             [
              0.1111111111111111,
              "#46039f"
             ],
             [
              0.2222222222222222,
              "#7201a8"
             ],
             [
              0.3333333333333333,
              "#9c179e"
             ],
             [
              0.4444444444444444,
              "#bd3786"
             ],
             [
              0.5555555555555556,
              "#d8576b"
             ],
             [
              0.6666666666666666,
              "#ed7953"
             ],
             [
              0.7777777777777778,
              "#fb9f3a"
             ],
             [
              0.8888888888888888,
              "#fdca26"
             ],
             [
              1,
              "#f0f921"
             ]
            ],
            "type": "heatmap"
           }
          ],
          "histogram": [
           {
            "marker": {
             "pattern": {
              "fillmode": "overlay",
              "size": 10,
              "solidity": 0.2
             }
            },
            "type": "histogram"
           }
          ],
          "histogram2d": [
           {
            "colorbar": {
             "outlinewidth": 0,
             "ticks": ""
            },
            "colorscale": [
             [
              0,
              "#0d0887"
             ],
             [
              0.1111111111111111,
              "#46039f"
             ],
             [
              0.2222222222222222,
              "#7201a8"
             ],
             [
              0.3333333333333333,
              "#9c179e"
             ],
             [
              0.4444444444444444,
              "#bd3786"
             ],
             [
              0.5555555555555556,
              "#d8576b"
             ],
             [
              0.6666666666666666,
              "#ed7953"
             ],
             [
              0.7777777777777778,
              "#fb9f3a"
             ],
             [
              0.8888888888888888,
              "#fdca26"
             ],
             [
              1,
              "#f0f921"
             ]
            ],
            "type": "histogram2d"
           }
          ],
          "histogram2dcontour": [
           {
            "colorbar": {
             "outlinewidth": 0,
             "ticks": ""
            },
            "colorscale": [
             [
              0,
              "#0d0887"
             ],
             [
              0.1111111111111111,
              "#46039f"
             ],
             [
              0.2222222222222222,
              "#7201a8"
             ],
             [
              0.3333333333333333,
              "#9c179e"
             ],
             [
              0.4444444444444444,
              "#bd3786"
             ],
             [
              0.5555555555555556,
              "#d8576b"
             ],
             [
              0.6666666666666666,
              "#ed7953"
             ],
             [
              0.7777777777777778,
              "#fb9f3a"
             ],
             [
              0.8888888888888888,
              "#fdca26"
             ],
             [
              1,
              "#f0f921"
             ]
            ],
            "type": "histogram2dcontour"
           }
          ],
          "mesh3d": [
           {
            "colorbar": {
             "outlinewidth": 0,
             "ticks": ""
            },
            "type": "mesh3d"
           }
          ],
          "parcoords": [
           {
            "line": {
             "colorbar": {
              "outlinewidth": 0,
              "ticks": ""
             }
            },
            "type": "parcoords"
           }
          ],
          "pie": [
           {
            "automargin": true,
            "type": "pie"
           }
          ],
          "scatter": [
           {
            "fillpattern": {
             "fillmode": "overlay",
             "size": 10,
             "solidity": 0.2
            },
            "type": "scatter"
           }
          ],
          "scatter3d": [
           {
            "line": {
             "colorbar": {
              "outlinewidth": 0,
              "ticks": ""
             }
            },
            "marker": {
             "colorbar": {
              "outlinewidth": 0,
              "ticks": ""
             }
            },
            "type": "scatter3d"
           }
          ],
          "scattercarpet": [
           {
            "marker": {
             "colorbar": {
              "outlinewidth": 0,
              "ticks": ""
             }
            },
            "type": "scattercarpet"
           }
          ],
          "scattergeo": [
           {
            "marker": {
             "colorbar": {
              "outlinewidth": 0,
              "ticks": ""
             }
            },
            "type": "scattergeo"
           }
          ],
          "scattergl": [
           {
            "marker": {
             "colorbar": {
              "outlinewidth": 0,
              "ticks": ""
             }
            },
            "type": "scattergl"
           }
          ],
          "scattermap": [
           {
            "marker": {
             "colorbar": {
              "outlinewidth": 0,
              "ticks": ""
             }
            },
            "type": "scattermap"
           }
          ],
          "scattermapbox": [
           {
            "marker": {
             "colorbar": {
              "outlinewidth": 0,
              "ticks": ""
             }
            },
            "type": "scattermapbox"
           }
          ],
          "scatterpolar": [
           {
            "marker": {
             "colorbar": {
              "outlinewidth": 0,
              "ticks": ""
             }
            },
            "type": "scatterpolar"
           }
          ],
          "scatterpolargl": [
           {
            "marker": {
             "colorbar": {
              "outlinewidth": 0,
              "ticks": ""
             }
            },
            "type": "scatterpolargl"
           }
          ],
          "scatterternary": [
           {
            "marker": {
             "colorbar": {
              "outlinewidth": 0,
              "ticks": ""
             }
            },
            "type": "scatterternary"
           }
          ],
          "surface": [
           {
            "colorbar": {
             "outlinewidth": 0,
             "ticks": ""
            },
            "colorscale": [
             [
              0,
              "#0d0887"
             ],
             [
              0.1111111111111111,
              "#46039f"
             ],
             [
              0.2222222222222222,
              "#7201a8"
             ],
             [
              0.3333333333333333,
              "#9c179e"
             ],
             [
              0.4444444444444444,
              "#bd3786"
             ],
             [
              0.5555555555555556,
              "#d8576b"
             ],
             [
              0.6666666666666666,
              "#ed7953"
             ],
             [
              0.7777777777777778,
              "#fb9f3a"
             ],
             [
              0.8888888888888888,
              "#fdca26"
             ],
             [
              1,
              "#f0f921"
             ]
            ],
            "type": "surface"
           }
          ],
          "table": [
           {
            "cells": {
             "fill": {
              "color": "#EBF0F8"
             },
             "line": {
              "color": "white"
             }
            },
            "header": {
             "fill": {
              "color": "#C8D4E3"
             },
             "line": {
              "color": "white"
             }
            },
            "type": "table"
           }
          ]
         },
         "layout": {
          "annotationdefaults": {
           "arrowcolor": "#2a3f5f",
           "arrowhead": 0,
           "arrowwidth": 1
          },
          "autotypenumbers": "strict",
          "coloraxis": {
           "colorbar": {
            "outlinewidth": 0,
            "ticks": ""
           }
          },
          "colorscale": {
           "diverging": [
            [
             0,
             "#8e0152"
            ],
            [
             0.1,
             "#c51b7d"
            ],
            [
             0.2,
             "#de77ae"
            ],
            [
             0.3,
             "#f1b6da"
            ],
            [
             0.4,
             "#fde0ef"
            ],
            [
             0.5,
             "#f7f7f7"
            ],
            [
             0.6,
             "#e6f5d0"
            ],
            [
             0.7,
             "#b8e186"
            ],
            [
             0.8,
             "#7fbc41"
            ],
            [
             0.9,
             "#4d9221"
            ],
            [
             1,
             "#276419"
            ]
           ],
           "sequential": [
            [
             0,
             "#0d0887"
            ],
            [
             0.1111111111111111,
             "#46039f"
            ],
            [
             0.2222222222222222,
             "#7201a8"
            ],
            [
             0.3333333333333333,
             "#9c179e"
            ],
            [
             0.4444444444444444,
             "#bd3786"
            ],
            [
             0.5555555555555556,
             "#d8576b"
            ],
            [
             0.6666666666666666,
             "#ed7953"
            ],
            [
             0.7777777777777778,
             "#fb9f3a"
            ],
            [
             0.8888888888888888,
             "#fdca26"
            ],
            [
             1,
             "#f0f921"
            ]
           ],
           "sequentialminus": [
            [
             0,
             "#0d0887"
            ],
            [
             0.1111111111111111,
             "#46039f"
            ],
            [
             0.2222222222222222,
             "#7201a8"
            ],
            [
             0.3333333333333333,
             "#9c179e"
            ],
            [
             0.4444444444444444,
             "#bd3786"
            ],
            [
             0.5555555555555556,
             "#d8576b"
            ],
            [
             0.6666666666666666,
             "#ed7953"
            ],
            [
             0.7777777777777778,
             "#fb9f3a"
            ],
            [
             0.8888888888888888,
             "#fdca26"
            ],
            [
             1,
             "#f0f921"
            ]
           ]
          },
          "colorway": [
           "#636efa",
           "#EF553B",
           "#00cc96",
           "#ab63fa",
           "#FFA15A",
           "#19d3f3",
           "#FF6692",
           "#B6E880",
           "#FF97FF",
           "#FECB52"
          ],
          "font": {
           "color": "#2a3f5f"
          },
          "geo": {
           "bgcolor": "white",
           "lakecolor": "white",
           "landcolor": "#E5ECF6",
           "showlakes": true,
           "showland": true,
           "subunitcolor": "white"
          },
          "hoverlabel": {
           "align": "left"
          },
          "hovermode": "closest",
          "mapbox": {
           "style": "light"
          },
          "paper_bgcolor": "white",
          "plot_bgcolor": "#E5ECF6",
          "polar": {
           "angularaxis": {
            "gridcolor": "white",
            "linecolor": "white",
            "ticks": ""
           },
           "bgcolor": "#E5ECF6",
           "radialaxis": {
            "gridcolor": "white",
            "linecolor": "white",
            "ticks": ""
           }
          },
          "scene": {
           "xaxis": {
            "backgroundcolor": "#E5ECF6",
            "gridcolor": "white",
            "gridwidth": 2,
            "linecolor": "white",
            "showbackground": true,
            "ticks": "",
            "zerolinecolor": "white"
           },
           "yaxis": {
            "backgroundcolor": "#E5ECF6",
            "gridcolor": "white",
            "gridwidth": 2,
            "linecolor": "white",
            "showbackground": true,
            "ticks": "",
            "zerolinecolor": "white"
           },
           "zaxis": {
            "backgroundcolor": "#E5ECF6",
            "gridcolor": "white",
            "gridwidth": 2,
            "linecolor": "white",
            "showbackground": true,
            "ticks": "",
            "zerolinecolor": "white"
           }
          },
          "shapedefaults": {
           "line": {
            "color": "#2a3f5f"
           }
          },
          "ternary": {
           "aaxis": {
            "gridcolor": "white",
            "linecolor": "white",
            "ticks": ""
           },
           "baxis": {
            "gridcolor": "white",
            "linecolor": "white",
            "ticks": ""
           },
           "bgcolor": "#E5ECF6",
           "caxis": {
            "gridcolor": "white",
            "linecolor": "white",
            "ticks": ""
           }
          },
          "title": {
           "x": 0.05
          },
          "xaxis": {
           "automargin": true,
           "gridcolor": "white",
           "linecolor": "white",
           "ticks": "",
           "title": {
            "standoff": 15
           },
           "zerolinecolor": "white",
           "zerolinewidth": 2
          },
          "yaxis": {
           "automargin": true,
           "gridcolor": "white",
           "linecolor": "white",
           "ticks": "",
           "title": {
            "standoff": 15
           },
           "zerolinecolor": "white",
           "zerolinewidth": 2
          }
         }
        },
        "title": {
         "text": "Parallel Coordinate Plot"
        }
       }
      },
      "image/png": "[encoded data removed]"
     },
     "metadata": {},
     "output_type": "display_data"
    },
    {
     "data": {
      "application/vnd.plotly.v1+json": {
       "config": {
        "plotlyServerURL": "https://plot.ly"
       },
       "data": [
        {
         "mode": "markers",
         "name": "Objective Value",
         "type": "scatter",
         "x": [
          0,
          1,
          5,
          6,
          8,
          9,
          10,
          12,
          16,
          21,
          23,
          33,
          36,
          37,
          43,
          44,
          65,
          68,
          69,
          71
         ],
         "y": [
          0.9408441453407804,
          0.9488720236822901,
          0.9134920302773709,
          0.9487828225895767,
          0.9264842894325456,
          0.9316445276454637,
          0.9481972354161339,
          0.9487060466490713,
          0.9284869789654924,
          0.9485980153256877,
          0.9487904976835966,
          0.9480469935756712,
          0.9483929478136106,
          0.948849228403048,
          0.9480376134607649,
          0.9476703089612849,
          0.9477183495497818,
          0.9489217942919802,
          0.9487345469982006,
          0.9488406232976354
         ]
        },
        {
         "mode": "lines",
         "name": "Best Value",
         "type": "scatter",
         "x": [
          0,
          1,
          2,
          3,
          4,
          5,
          6,
          7,
          8,
          9,
          10,
          11,
          12,
          13,
          14,
          15,
          16,
          17,
          18,
          19,
          20,
          21,
          22,
          23,
          24,
          25,
          26,
          27,
          28,
          29,
          30,
          31,
          32,
          33,
          34,
          35,
          36,
          37,
          38,
          39,
          40,
          41,
          42,
          43,
          44,
          45,
          46,
          47,
          48,
          49,
          50,
          51,
          52,
          53,
          54,
          55,
          56,
          57,
          58,
          59,
          60,
          61,
          62,
          63,
          64,
          65,
          66,
          67,
          68,
          69,
          70,
          71,
          72,
          73,
          74,
          75,
          76,
          77,
          78,
          79,
          80,
          81,
          82,
          83,
          84,
          85,
          86,
          87,
          88,
          89,
          90,
          91,
          92,
          93,
          94,
          95,
          96,
          97,
          98,
          99
         ],
         "y": [
          0.9408441453407804,
          0.9488720236822901,
          0.9488720236822901,
          0.9488720236822901,
          0.9488720236822901,
          0.9488720236822901,
          0.9488720236822901,
          0.9488720236822901,
          0.9488720236822901,
          0.9488720236822901,
          0.9488720236822901,
          0.9488720236822901,
          0.9488720236822901,
          0.9488720236822901,
          0.9488720236822901,
          0.9488720236822901,
          0.9488720236822901,
          0.9488720236822901,
          0.9488720236822901,
          0.9488720236822901,
          0.9488720236822901,
          0.9488720236822901,
          0.9488720236822901,
          0.9488720236822901,
          0.9488720236822901,
          0.9488720236822901,
          0.9488720236822901,
          0.9488720236822901,
          0.9488720236822901,
          0.9488720236822901,
          0.9488720236822901,
          0.9488720236822901,
          0.9488720236822901,
          0.9488720236822901,
          0.9488720236822901,
          0.9488720236822901,
          0.9488720236822901,
          0.9488720236822901,
          0.9488720236822901,
          0.9488720236822901,
          0.9488720236822901,
          0.9488720236822901,
          0.9488720236822901,
          0.9488720236822901,
          0.9488720236822901,
          0.9488720236822901,
          0.9488720236822901,
          0.9488720236822901,
          0.9488720236822901,
          0.9488720236822901,
          0.9488720236822901,
          0.9488720236822901,
          0.9488720236822901,
          0.9488720236822901,
          0.9488720236822901,
          0.9488720236822901,
          0.9488720236822901,
          0.9488720236822901,
          0.9488720236822901,
          0.9488720236822901,
          0.9488720236822901,
          0.9488720236822901,
          0.9488720236822901,
          0.9488720236822901,
          0.9488720236822901,
          0.9488720236822901,
          0.9488720236822901,
          0.9488720236822901,
          0.9489217942919802,
          0.9489217942919802,
          0.9489217942919802,
          0.9489217942919802,
          0.9489217942919802,
          0.9489217942919802,
          0.9489217942919802,
          0.9489217942919802,
          0.9489217942919802,
          0.9489217942919802,
          0.9489217942919802,
          0.9489217942919802,
          0.9489217942919802,
          0.9489217942919802,
          0.9489217942919802,
          0.9489217942919802,
          0.9489217942919802,
          0.9489217942919802,
          0.9489217942919802,
          0.9489217942919802,
          0.9489217942919802,
          0.9489217942919802,
          0.9489217942919802,
          0.9489217942919802,
          0.9489217942919802,
          0.9489217942919802,
          0.9489217942919802,
          0.9489217942919802,
          0.9489217942919802,
          0.9489217942919802,
          0.9489217942919802,
          0.9489217942919802
         ]
        },
        {
         "marker": {
          "color": "#cccccc"
         },
         "mode": "markers",
         "name": "Infeasible Trial",
         "showlegend": false,
         "type": "scatter",
         "x": [],
         "y": []
        }
       ],
       "layout": {
        "template": {
         "data": {
          "bar": [
           {
            "error_x": {
             "color": "#2a3f5f"
            },
            "error_y": {
             "color": "#2a3f5f"
            },
            "marker": {
             "line": {
              "color": "#E5ECF6",
              "width": 0.5
             },
             "pattern": {
              "fillmode": "overlay",
              "size": 10,
              "solidity": 0.2
             }
            },
            "type": "bar"
           }
          ],
          "barpolar": [
           {
            "marker": {
             "line": {
              "color": "#E5ECF6",
              "width": 0.5
             },
             "pattern": {
              "fillmode": "overlay",
              "size": 10,
              "solidity": 0.2
             }
            },
            "type": "barpolar"
           }
          ],
          "carpet": [
           {
            "aaxis": {
             "endlinecolor": "#2a3f5f",
             "gridcolor": "white",
             "linecolor": "white",
             "minorgridcolor": "white",
             "startlinecolor": "#2a3f5f"
            },
            "baxis": {
             "endlinecolor": "#2a3f5f",
             "gridcolor": "white",
             "linecolor": "white",
             "minorgridcolor": "white",
             "startlinecolor": "#2a3f5f"
            },
            "type": "carpet"
           }
          ],
          "choropleth": [
           {
            "colorbar": {
             "outlinewidth": 0,
             "ticks": ""
            },
            "type": "choropleth"
           }
          ],
          "contour": [
           {
            "colorbar": {
             "outlinewidth": 0,
             "ticks": ""
            },
            "colorscale": [
             [
              0,
              "#0d0887"
             ],
             [
              0.1111111111111111,
              "#46039f"
             ],
             [
              0.2222222222222222,
              "#7201a8"
             ],
             [
              0.3333333333333333,
              "#9c179e"
             ],
             [
              0.4444444444444444,
              "#bd3786"
             ],
             [
              0.5555555555555556,
              "#d8576b"
             ],
             [
              0.6666666666666666,
              "#ed7953"
             ],
             [
              0.7777777777777778,
              "#fb9f3a"
             ],
             [
              0.8888888888888888,
              "#fdca26"
             ],
             [
              1,
              "#f0f921"
             ]
            ],
            "type": "contour"
           }
          ],
          "contourcarpet": [
           {
            "colorbar": {
             "outlinewidth": 0,
             "ticks": ""
            },
            "type": "contourcarpet"
           }
          ],
          "heatmap": [
           {
            "colorbar": {
             "outlinewidth": 0,
             "ticks": ""
            },
            "colorscale": [
             [
              0,
              "#0d0887"
             ],
             [
              0.1111111111111111,
              "#46039f"
             ],
             [
              0.2222222222222222,
              "#7201a8"
             ],
             [
              0.3333333333333333,
              "#9c179e"
             ],
             [
              0.4444444444444444,
              "#bd3786"
             ],
             [
              0.5555555555555556,
              "#d8576b"
             ],
             [
              0.6666666666666666,
              "#ed7953"
             ],
             [
              0.7777777777777778,
              "#fb9f3a"
             ],
             [
              0.8888888888888888,
              "#fdca26"
             ],
             [
              1,
              "#f0f921"
             ]
            ],
            "type": "heatmap"
           }
          ],
          "histogram": [
           {
            "marker": {
             "pattern": {
              "fillmode": "overlay",
              "size": 10,
              "solidity": 0.2
             }
            },
            "type": "histogram"
           }
          ],
          "histogram2d": [
           {
            "colorbar": {
             "outlinewidth": 0,
             "ticks": ""
            },
            "colorscale": [
             [
              0,
              "#0d0887"
             ],
             [
              0.1111111111111111,
              "#46039f"
             ],
             [
              0.2222222222222222,
              "#7201a8"
             ],
             [
              0.3333333333333333,
              "#9c179e"
             ],
             [
              0.4444444444444444,
              "#bd3786"
             ],
             [
              0.5555555555555556,
              "#d8576b"
             ],
             [
              0.6666666666666666,
              "#ed7953"
             ],
             [
              0.7777777777777778,
              "#fb9f3a"
             ],
             [
              0.8888888888888888,
              "#fdca26"
             ],
             [
              1,
              "#f0f921"
             ]
            ],
            "type": "histogram2d"
           }
          ],
          "histogram2dcontour": [
           {
            "colorbar": {
             "outlinewidth": 0,
             "ticks": ""
            },
            "colorscale": [
             [
              0,
              "#0d0887"
             ],
             [
              0.1111111111111111,
              "#46039f"
             ],
             [
              0.2222222222222222,
              "#7201a8"
             ],
             [
              0.3333333333333333,
              "#9c179e"
             ],
             [
              0.4444444444444444,
              "#bd3786"
             ],
             [
              0.5555555555555556,
              "#d8576b"
             ],
             [
              0.6666666666666666,
              "#ed7953"
             ],
             [
              0.7777777777777778,
              "#fb9f3a"
             ],
             [
              0.8888888888888888,
              "#fdca26"
             ],
             [
              1,
              "#f0f921"
             ]
            ],
            "type": "histogram2dcontour"
           }
          ],
          "mesh3d": [
           {
            "colorbar": {
             "outlinewidth": 0,
             "ticks": ""
            },
            "type": "mesh3d"
           }
          ],
          "parcoords": [
           {
            "line": {
             "colorbar": {
              "outlinewidth": 0,
              "ticks": ""
             }
            },
            "type": "parcoords"
           }
          ],
          "pie": [
           {
            "automargin": true,
            "type": "pie"
           }
          ],
          "scatter": [
           {
            "fillpattern": {
             "fillmode": "overlay",
             "size": 10,
             "solidity": 0.2
            },
            "type": "scatter"
           }
          ],
          "scatter3d": [
           {
            "line": {
             "colorbar": {
              "outlinewidth": 0,
              "ticks": ""
             }
            },
            "marker": {
             "colorbar": {
              "outlinewidth": 0,
              "ticks": ""
             }
            },
            "type": "scatter3d"
           }
          ],
          "scattercarpet": [
           {
            "marker": {
             "colorbar": {
              "outlinewidth": 0,
              "ticks": ""
             }
            },
            "type": "scattercarpet"
           }
          ],
          "scattergeo": [
           {
            "marker": {
             "colorbar": {
              "outlinewidth": 0,
              "ticks": ""
             }
            },
            "type": "scattergeo"
           }
          ],
          "scattergl": [
           {
            "marker": {
             "colorbar": {
              "outlinewidth": 0,
              "ticks": ""
             }
            },
            "type": "scattergl"
           }
          ],
          "scattermap": [
           {
            "marker": {
             "colorbar": {
              "outlinewidth": 0,
              "ticks": ""
             }
            },
            "type": "scattermap"
           }
          ],
          "scattermapbox": [
           {
            "marker": {
             "colorbar": {
              "outlinewidth": 0,
              "ticks": ""
             }
            },
            "type": "scattermapbox"
           }
          ],
          "scatterpolar": [
           {
            "marker": {
             "colorbar": {
              "outlinewidth": 0,
              "ticks": ""
             }
            },
            "type": "scatterpolar"
           }
          ],
          "scatterpolargl": [
           {
            "marker": {
             "colorbar": {
              "outlinewidth": 0,
              "ticks": ""
             }
            },
            "type": "scatterpolargl"
           }
          ],
          "scatterternary": [
           {
            "marker": {
             "colorbar": {
              "outlinewidth": 0,
              "ticks": ""
             }
            },
            "type": "scatterternary"
           }
          ],
          "surface": [
           {
            "colorbar": {
             "outlinewidth": 0,
             "ticks": ""
            },
            "colorscale": [
             [
              0,
              "#0d0887"
             ],
             [
              0.1111111111111111,
              "#46039f"
             ],
             [
              0.2222222222222222,
              "#7201a8"
             ],
             [
              0.3333333333333333,
              "#9c179e"
             ],
             [
              0.4444444444444444,
              "#bd3786"
             ],
             [
              0.5555555555555556,
              "#d8576b"
             ],
             [
              0.6666666666666666,
              "#ed7953"
             ],
             [
              0.7777777777777778,
              "#fb9f3a"
             ],
             [
              0.8888888888888888,
              "#fdca26"
             ],
             [
              1,
              "#f0f921"
             ]
            ],
            "type": "surface"
           }
          ],
          "table": [
           {
            "cells": {
             "fill": {
              "color": "#EBF0F8"
             },
             "line": {
              "color": "white"
             }
            },
            "header": {
             "fill": {
              "color": "#C8D4E3"
             },
             "line": {
              "color": "white"
             }
            },
            "type": "table"
           }
          ]
         },
         "layout": {
          "annotationdefaults": {
           "arrowcolor": "#2a3f5f",
           "arrowhead": 0,
           "arrowwidth": 1
          },
          "autotypenumbers": "strict",
          "coloraxis": {
           "colorbar": {
            "outlinewidth": 0,
            "ticks": ""
           }
          },
          "colorscale": {
           "diverging": [
            [
             0,
             "#8e0152"
            ],
            [
             0.1,
             "#c51b7d"
            ],
            [
             0.2,
             "#de77ae"
            ],
            [
             0.3,
             "#f1b6da"
            ],
            [
             0.4,
             "#fde0ef"
            ],
            [
             0.5,
             "#f7f7f7"
            ],
            [
             0.6,
             "#e6f5d0"
            ],
            [
             0.7,
             "#b8e186"
            ],
            [
             0.8,
             "#7fbc41"
            ],
            [
             0.9,
             "#4d9221"
            ],
            [
             1,
             "#276419"
            ]
           ],
           "sequential": [
            [
             0,
             "#0d0887"
            ],
            [
             0.1111111111111111,
             "#46039f"
            ],
            [
             0.2222222222222222,
             "#7201a8"
            ],
            [
             0.3333333333333333,
             "#9c179e"
            ],
            [
             0.4444444444444444,
             "#bd3786"
            ],
            [
             0.5555555555555556,
             "#d8576b"
            ],
            [
             0.6666666666666666,
             "#ed7953"
            ],
            [
             0.7777777777777778,
             "#fb9f3a"
            ],
            [
             0.8888888888888888,
             "#fdca26"
            ],
            [
             1,
             "#f0f921"
            ]
           ],
           "sequentialminus": [
            [
             0,
             "#0d0887"
            ],
            [
             0.1111111111111111,
             "#46039f"
            ],
            [
             0.2222222222222222,
             "#7201a8"
            ],
            [
             0.3333333333333333,
             "#9c179e"
            ],
            [
             0.4444444444444444,
             "#bd3786"
            ],
            [
             0.5555555555555556,
             "#d8576b"
            ],
            [
             0.6666666666666666,
             "#ed7953"
            ],
            [
             0.7777777777777778,
             "#fb9f3a"
            ],
            [
             0.8888888888888888,
             "#fdca26"
            ],
            [
             1,
             "#f0f921"
            ]
           ]
          },
          "colorway": [
           "#636efa",
           "#EF553B",
           "#00cc96",
           "#ab63fa",
           "#FFA15A",
           "#19d3f3",
           "#FF6692",
           "#B6E880",
           "#FF97FF",
           "#FECB52"
          ],
          "font": {
           "color": "#2a3f5f"
          },
          "geo": {
           "bgcolor": "white",
           "lakecolor": "white",
           "landcolor": "#E5ECF6",
           "showlakes": true,
           "showland": true,
           "subunitcolor": "white"
          },
          "hoverlabel": {
           "align": "left"
          },
          "hovermode": "closest",
          "mapbox": {
           "style": "light"
          },
          "paper_bgcolor": "white",
          "plot_bgcolor": "#E5ECF6",
          "polar": {
           "angularaxis": {
            "gridcolor": "white",
            "linecolor": "white",
            "ticks": ""
           },
           "bgcolor": "#E5ECF6",
           "radialaxis": {
            "gridcolor": "white",
            "linecolor": "white",
            "ticks": ""
           }
          },
          "scene": {
           "xaxis": {
            "backgroundcolor": "#E5ECF6",
            "gridcolor": "white",
            "gridwidth": 2,
            "linecolor": "white",
            "showbackground": true,
            "ticks": "",
            "zerolinecolor": "white"
           },
           "yaxis": {
            "backgroundcolor": "#E5ECF6",
            "gridcolor": "white",
            "gridwidth": 2,
            "linecolor": "white",
            "showbackground": true,
            "ticks": "",
            "zerolinecolor": "white"
           },
           "zaxis": {
            "backgroundcolor": "#E5ECF6",
            "gridcolor": "white",
            "gridwidth": 2,
            "linecolor": "white",
            "showbackground": true,
            "ticks": "",
            "zerolinecolor": "white"
           }
          },
          "shapedefaults": {
           "line": {
            "color": "#2a3f5f"
           }
          },
          "ternary": {
           "aaxis": {
            "gridcolor": "white",
            "linecolor": "white",
            "ticks": ""
           },
           "baxis": {
            "gridcolor": "white",
            "linecolor": "white",
            "ticks": ""
           },
           "bgcolor": "#E5ECF6",
           "caxis": {
            "gridcolor": "white",
            "linecolor": "white",
            "ticks": ""
           }
          },
          "title": {
           "x": 0.05
          },
          "xaxis": {
           "automargin": true,
           "gridcolor": "white",
           "linecolor": "white",
           "ticks": "",
           "title": {
            "standoff": 15
           },
           "zerolinecolor": "white",
           "zerolinewidth": 2
          },
          "yaxis": {
           "automargin": true,
           "gridcolor": "white",
           "linecolor": "white",
           "ticks": "",
           "title": {
            "standoff": 15
           },
           "zerolinecolor": "white",
           "zerolinewidth": 2
          }
         }
        },
        "title": {
         "text": "Optimization History Plot"
        },
        "xaxis": {
         "title": {
          "text": "Trial"
         }
        },
        "yaxis": {
         "title": {
          "text": "Objective Value"
         }
        }
       }
      },
      "image/png": "[encoded data removed]"
     },
     "metadata": {},
     "output_type": "display_data"
    },
    {
     "data": {
      "application/vnd.plotly.v1+json": {
       "config": {
        "plotlyServerURL": "https://plot.ly"
       },
       "data": [
        {
         "base": [
          "2025-09-12T19:12:37.458451",
          "2025-09-12T19:13:24.963076",
          "2025-09-12T19:13:51.836518",
          "2025-09-12T19:14:41.326116",
          "2025-09-12T19:14:58.685735",
          "2025-09-12T19:15:26.925351",
          "2025-09-12T19:15:46.985146",
          "2025-09-12T19:15:55.501569",
          "2025-09-12T19:16:17.231597",
          "2025-09-12T19:16:25.142455",
          "2025-09-12T19:16:45.564975",
          "2025-09-12T19:17:19.068541",
          "2025-09-12T19:17:29.576703",
          "2025-09-12T19:17:38.672820",
          "2025-09-12T19:18:03.883692",
          "2025-09-12T19:18:13.053753",
          "2025-09-12T19:19:57.845246",
          "2025-09-12T19:20:44.985120",
          "2025-09-12T19:21:03.572128",
          "2025-09-12T19:21:21.202070"
         ],
         "hovertemplate": "%{text}<extra>COMPLETE</extra>",
         "marker": {
          "color": "blue"
         },
         "name": "COMPLETE",
         "orientation": "h",
         "text": [
          "{<br>  \"number\": 0,<br>  \"values\": [<br>    0.9408441453407804<br>  ],<br>  \"params\": {<br>    \"learning_rate\": 0.008468008575248327,<br>    \"n_estimators\": 956<br>  }<br>}",
          "{<br>  \"number\": 1,<br>  \"values\": [<br>    0.9488720236822901<br>  ],<br>  \"params\": {<br>    \"learning_rate\": 0.06504856968981275,<br>    \"n_estimators\": 639<br>  }<br>}",
          "{<br>  \"number\": 5,<br>  \"values\": [<br>    0.9134920302773709<br>  ],<br>  \"params\": {<br>    \"learning_rate\": 0.001124579825911934,<br>    \"n_estimators\": 973<br>  }<br>}",
          "{<br>  \"number\": 6,<br>  \"values\": [<br>    0.9487828225895767<br>  ],<br>  \"params\": {<br>    \"learning_rate\": 0.11536162338241392,<br>    \"n_estimators\": 291<br>  }<br>}",
          "{<br>  \"number\": 8,<br>  \"values\": [<br>    0.9264842894325456<br>  ],<br>  \"params\": {<br>    \"learning_rate\": 0.005670807781371429,<br>    \"n_estimators\": 572<br>  }<br>}",
          "{<br>  \"number\": 9,<br>  \"values\": [<br>    0.9316445276454637<br>  ],<br>  \"params\": {<br>    \"learning_rate\": 0.01174843954800703,<br>    \"n_estimators\": 362<br>  }<br>}",
          "{<br>  \"number\": 10,<br>  \"values\": [<br>    0.9481972354161339<br>  ],<br>  \"params\": {<br>    \"learning_rate\": 0.253238990594609,<br>    \"n_estimators\": 526<br>  }<br>}",
          "{<br>  \"number\": 12,<br>  \"values\": [<br>    0.9487060466490713<br>  ],<br>  \"params\": {<br>    \"learning_rate\": 0.12795607701688289,<br>    \"n_estimators\": 549<br>  }<br>}",
          "{<br>  \"number\": 16,<br>  \"values\": [<br>    0.9284869789654924<br>  ],<br>  \"params\": {<br>    \"learning_rate\": 0.023597384105103633,<br>    \"n_estimators\": 153<br>  }<br>}",
          "{<br>  \"number\": 21,<br>  \"values\": [<br>    0.9485980153256877<br>  ],<br>  \"params\": {<br>    \"learning_rate\": 0.17619769721270673,<br>    \"n_estimators\": 605<br>  }<br>}",
          "{<br>  \"number\": 23,<br>  \"values\": [<br>    0.9487904976835966<br>  ],<br>  \"params\": {<br>    \"learning_rate\": 0.10721665442549017,<br>    \"n_estimators\": 646<br>  }<br>}",
          "{<br>  \"number\": 33,<br>  \"values\": [<br>    0.9480469935756712<br>  ],<br>  \"params\": {<br>    \"learning_rate\": 0.12381053221254733,<br>    \"n_estimators\": 203<br>  }<br>}",
          "{<br>  \"number\": 36,<br>  \"values\": [<br>    0.9483929478136106<br>  ],<br>  \"params\": {<br>    \"learning_rate\": 0.23106953064078845,<br>    \"n_estimators\": 764<br>  }<br>}",
          "{<br>  \"number\": 37,<br>  \"values\": [<br>    0.948849228403048<br>  ],<br>  \"params\": {<br>    \"learning_rate\": 0.13939873927664911,<br>    \"n_estimators\": 598<br>  }<br>}",
          "{<br>  \"number\": 43,<br>  \"values\": [<br>    0.9480376134607649<br>  ],<br>  \"params\": {<br>    \"learning_rate\": 0.21874518392022435,<br>    \"n_estimators\": 216<br>  }<br>}",
          "{<br>  \"number\": 44,<br>  \"values\": [<br>    0.9476703089612849<br>  ],<br>  \"params\": {<br>    \"learning_rate\": 0.29748245365267917,<br>    \"n_estimators\": 696<br>  }<br>}",
          "{<br>  \"number\": 65,<br>  \"values\": [<br>    0.9477183495497818<br>  ],<br>  \"params\": {<br>    \"learning_rate\": 0.2668366057624534,<br>    \"n_estimators\": 667<br>  }<br>}",
          "{<br>  \"number\": 68,<br>  \"values\": [<br>    0.9489217942919802<br>  ],<br>  \"params\": {<br>    \"learning_rate\": 0.15199494041354802,<br>    \"n_estimators\": 613<br>  }<br>}",
          "{<br>  \"number\": 69,<br>  \"values\": [<br>    0.9487345469982006<br>  ],<br>  \"params\": {<br>    \"learning_rate\": 0.15978614310222386,<br>    \"n_estimators\": 628<br>  }<br>}",
          "{<br>  \"number\": 71,<br>  \"values\": [<br>    0.9488406232976354<br>  ],<br>  \"params\": {<br>    \"learning_rate\": 0.1476292750234549,<br>    \"n_estimators\": 656<br>  }<br>}"
         ],
         "textposition": "none",
         "type": "bar",
         "x": [
          47396.909999999996,
          24970,
          49337.563,
          16147.732000000002,
          28160.162,
          20005.626,
          8016.840999999999,
          17394.217999999997,
          5923.808,
          19881.134,
          25809.331000000002,
          9585.048,
          9046.383,
          22444.35,
          9027.51,
          14806.982,
          44770.560000000005,
          18546.78,
          17263.735,
          11939.871000000001
         ],
         "y": [
          0,
          1,
          5,
          6,
          8,
          9,
          10,
          12,
          16,
          21,
          23,
          33,
          36,
          37,
          43,
          44,
          65,
          68,
          69,
          71
         ]
        },
        {
         "base": [
          "2025-09-12T19:13:49.983089",
          "2025-09-12T19:13:50.529537",
          "2025-09-12T19:13:51.140025",
          "2025-09-12T19:14:57.513706",
          "2025-09-12T19:15:55.047182",
          "2025-09-12T19:16:12.947373",
          "2025-09-12T19:16:13.417145",
          "2025-09-12T19:16:14.267706",
          "2025-09-12T19:16:23.189665",
          "2025-09-12T19:16:23.661109",
          "2025-09-12T19:16:24.133847",
          "2025-09-12T19:16:24.609429",
          "2025-09-12T19:16:45.069608",
          "2025-09-12T19:17:11.473599",
          "2025-09-12T19:17:12.200005",
          "2025-09-12T19:17:13.369429",
          "2025-09-12T19:17:14.018648",
          "2025-09-12T19:17:14.738243",
          "2025-09-12T19:17:15.532891",
          "2025-09-12T19:17:16.223068",
          "2025-09-12T19:17:16.784472",
          "2025-09-12T19:17:17.606971",
          "2025-09-12T19:17:28.712247",
          "2025-09-12T19:17:29.177232",
          "2025-09-12T19:18:01.163004",
          "2025-09-12T19:18:01.618091",
          "2025-09-12T19:18:02.124382",
          "2025-09-12T19:18:02.765105",
          "2025-09-12T19:18:03.272455",
          "2025-09-12T19:18:27.929801",
          "2025-09-12T19:18:28.476929",
          "2025-09-12T19:18:29.063610",
          "2025-09-12T19:18:29.500791",
          "2025-09-12T19:18:29.881280",
          "2025-09-12T19:18:30.909874",
          "2025-09-12T19:18:31.964928",
          "2025-09-12T19:18:37.965527",
          "2025-09-12T19:18:39.576528",
          "2025-09-12T19:18:41.060767",
          "2025-09-12T19:18:42.235685",
          "2025-09-12T19:18:44.393360",
          "2025-09-12T19:18:45.361195",
          "2025-09-12T19:19:01.226783",
          "2025-09-12T19:19:02.592128",
          "2025-09-12T19:19:03.549576",
          "2025-09-12T19:19:04.397743",
          "2025-09-12T19:19:46.060380",
          "2025-09-12T19:19:52.294081",
          "2025-09-12T19:19:55.060308",
          "2025-09-12T19:20:42.689834",
          "2025-09-12T19:20:44.079632",
          "2025-09-12T19:21:20.881821",
          "2025-09-12T19:21:33.186758",
          "2025-09-12T19:21:33.809979",
          "2025-09-12T19:21:34.157917",
          "2025-09-12T19:21:34.741735",
          "2025-09-12T19:21:35.671140",
          "2025-09-12T19:21:36.252514",
          "2025-09-12T19:21:36.959988",
          "2025-09-12T19:21:37.549706",
          "2025-09-12T19:21:37.967298",
          "2025-09-12T19:21:38.375965",
          "2025-09-12T19:21:38.973322",
          "2025-09-12T19:21:39.413181",
          "2025-09-12T19:21:40.738033",
          "2025-09-12T19:21:41.389726",
          "2025-09-12T19:21:41.744759",
          "2025-09-12T19:21:42.123436",
          "2025-09-12T19:21:42.507729",
          "2025-09-12T19:21:43.210771",
          "2025-09-12T19:21:44.361366",
          "2025-09-12T19:21:44.718562",
          "2025-09-12T19:21:57.234861",
          "2025-09-12T19:22:02.579924",
          "2025-09-12T19:22:03.685997",
          "2025-09-12T19:22:04.733868",
          "2025-09-12T19:22:05.575499",
          "2025-09-12T19:22:06.700998",
          "2025-09-12T19:22:07.277056",
          "2025-09-12T19:22:07.858445"
         ],
         "hovertemplate": "%{text}<extra>PRUNED</extra>",
         "marker": {
          "color": "orange"
         },
         "name": "PRUNED",
         "orientation": "h",
         "text": [
          "{<br>  \"number\": 2,<br>  \"values\": [<br>    0.8885249894311206<br>  ],<br>  \"params\": {<br>    \"learning_rate\": 0.0024348773534554596,<br>    \"n_estimators\": 240<br>  }<br>}",
          "{<br>  \"number\": 3,<br>  \"values\": [<br>    0.8885186743537609<br>  ],<br>  \"params\": {<br>    \"learning_rate\": 0.0013927723945289009,<br>    \"n_estimators\": 880<br>  }<br>}",
          "{<br>  \"number\": 4,<br>  \"values\": [<br>    0.8940052565643929<br>  ],<br>  \"params\": {<br>    \"learning_rate\": 0.030834348179355788,<br>    \"n_estimators\": 737<br>  }<br>}",
          "{<br>  \"number\": 7,<br>  \"values\": [<br>    0.8885249894311206<br>  ],<br>  \"params\": {<br>    \"learning_rate\": 0.002820996133514492,<br>    \"n_estimators\": 265<br>  }<br>}",
          "{<br>  \"number\": 11,<br>  \"values\": [<br>    0.9011335488859739<br>  ],<br>  \"params\": {<br>    \"learning_rate\": 0.05921421882074639,<br>    \"n_estimators\": 110<br>  }<br>}",
          "{<br>  \"number\": 13,<br>  \"values\": [<br>    0.8996116702429605<br>  ],<br>  \"params\": {<br>    \"learning_rate\": 0.047479181676638414,<br>    \"n_estimators\": 722<br>  }<br>}",
          "{<br>  \"number\": 14,<br>  \"values\": [<br>    0.9126557700331829<br>  ],<br>  \"params\": {<br>    \"learning_rate\": 0.11438852425480656,<br>    \"n_estimators\": 442<br>  }<br>}",
          "{<br>  \"number\": 15,<br>  \"values\": [<br>    0.9467748479918879<br>  ],<br>  \"params\": {<br>    \"learning_rate\": 0.2876084823513376,<br>    \"n_estimators\": 728<br>  }<br>}",
          "{<br>  \"number\": 17,<br>  \"values\": [<br>    0.9034424871704678<br>  ],<br>  \"params\": {<br>    \"learning_rate\": 0.09695086339191471,<br>    \"n_estimators\": 386<br>  }<br>}",
          "{<br>  \"number\": 18,<br>  \"values\": [<br>    0.9002843834836977<br>  ],<br>  \"params\": {<br>    \"learning_rate\": 0.05116137772790688,<br>    \"n_estimators\": 633<br>  }<br>}",
          "{<br>  \"number\": 19,<br>  \"values\": [<br>    0.9066245711509966<br>  ],<br>  \"params\": {<br>    \"learning_rate\": 0.15896975931604676,<br>    \"n_estimators\": 818<br>  }<br>}",
          "{<br>  \"number\": 20,<br>  \"values\": [<br>    0.9014550178239683<br>  ],<br>  \"params\": {<br>    \"learning_rate\": 0.07218758829093114,<br>    \"n_estimators\": 468<br>  }<br>}",
          "{<br>  \"number\": 22,<br>  \"values\": [<br>    0.8963182198981937<br>  ],<br>  \"params\": {<br>    \"learning_rate\": 0.03293648021976253,<br>    \"n_estimators\": 299<br>  }<br>}",
          "{<br>  \"number\": 24,<br>  \"values\": [<br>    0.9035265932007667<br>  ],<br>  \"params\": {<br>    \"learning_rate\": 0.08524527039404704,<br>    \"n_estimators\": 637<br>  }<br>}",
          "{<br>  \"number\": 25,<br>  \"values\": [<br>    0.9170799642295618<br>  ],<br>  \"params\": {<br>    \"learning_rate\": 0.17583818912214738,<br>    \"n_estimators\": 690<br>  }<br>}",
          "{<br>  \"number\": 26,<br>  \"values\": [<br>    0.8946845798861036<br>  ],<br>  \"params\": {<br>    \"learning_rate\": 0.017016619405357855,<br>    \"n_estimators\": 840<br>  }<br>}",
          "{<br>  \"number\": 27,<br>  \"values\": [<br>    0.8978789040165742<br>  ],<br>  \"params\": {<br>    \"learning_rate\": 0.036867247070838764,<br>    \"n_estimators\": 509<br>  }<br>}",
          "{<br>  \"number\": 28,<br>  \"values\": [<br>    0.902853709957947<br>  ],<br>  \"params\": {<br>    \"learning_rate\": 0.07735140244401356,<br>    \"n_estimators\": 790<br>  }<br>}",
          "{<br>  \"number\": 29,<br>  \"values\": [<br>    0.8954743695610271<br>  ],<br>  \"params\": {<br>    \"learning_rate\": 0.02012664021322257,<br>    \"n_estimators\": 918<br>  }<br>}",
          "{<br>  \"number\": 30,<br>  \"values\": [<br>    0.8886021053757909<br>  ],<br>  \"params\": {<br>    \"learning_rate\": 0.006732727353781667,<br>    \"n_estimators\": 425<br>  }<br>}",
          "{<br>  \"number\": 31,<br>  \"values\": [<br>    0.903924888079879<br>  ],<br>  \"params\": {<br>    \"learning_rate\": 0.12961597809366518,<br>    \"n_estimators\": 667<br>  }<br>}",
          "{<br>  \"number\": 32,<br>  \"values\": [<br>    0.91825870366912<br>  ],<br>  \"params\": {<br>    \"learning_rate\": 0.19600736148352482,<br>    \"n_estimators\": 551<br>  }<br>}",
          "{<br>  \"number\": 34,<br>  \"values\": [<br>    0.8948661971109146<br>  ],<br>  \"params\": {<br>    \"learning_rate\": 0.06828771917573033,<br>    \"n_estimators\": 330<br>  }<br>}",
          "{<br>  \"number\": 35,<br>  \"values\": [<br>    0.8945827036381195<br>  ],<br>  \"params\": {<br>    \"learning_rate\": 0.04437455690313512,<br>    \"n_estimators\": 493<br>  }<br>}",
          "{<br>  \"number\": 38,<br>  \"values\": [<br>    0.9034278719914319<br>  ],<br>  \"params\": {<br>    \"learning_rate\": 0.09959688680640674,<br>    \"n_estimators\": 598<br>  }<br>}",
          "{<br>  \"number\": 39,<br>  \"values\": [<br>    0.8885249894311206<br>  ],<br>  \"params\": {<br>    \"learning_rate\": 0.0026425559784354472,<br>    \"n_estimators\": 672<br>  }<br>}",
          "{<br>  \"number\": 40,<br>  \"values\": [<br>    0.8971615102285003<br>  ],<br>  \"params\": {<br>    \"learning_rate\": 0.028569535806485052,<br>    \"n_estimators\": 407<br>  }<br>}",
          "{<br>  \"number\": 41,<br>  \"values\": [<br>    0.8977522424649702<br>  ],<br>  \"params\": {<br>    \"learning_rate\": 0.14268464962392174,<br>    \"n_estimators\": 573<br>  }<br>}",
          "{<br>  \"number\": 42,<br>  \"values\": [<br>    0.911818334774601<br>  ],<br>  \"params\": {<br>    \"learning_rate\": 0.11058079596540951,<br>    \"n_estimators\": 542<br>  }<br>}",
          "{<br>  \"number\": 45,<br>  \"values\": [<br>    0.897774292735086<br>  ],<br>  \"params\": {<br>    \"learning_rate\": 0.08460242700460811,<br>    \"n_estimators\": 631<br>  }<br>}",
          "{<br>  \"number\": 46,<br>  \"values\": [<br>    0.9008258201162964<br>  ],<br>  \"params\": {<br>    \"learning_rate\": 0.06500901800192498,<br>    \"n_estimators\": 752<br>  }<br>}",
          "{<br>  \"number\": 47,<br>  \"values\": [<br>    0.8885249894311206<br>  ],<br>  \"params\": {<br>    \"learning_rate\": 0.003879754632154012,<br>    \"n_estimators\": 476<br>  }<br>}",
          "{<br>  \"number\": 48,<br>  \"values\": [<br>    0.8946142840249793<br>  ],<br>  \"params\": {<br>    \"learning_rate\": 0.05696311055716775,<br>    \"n_estimators\": 588<br>  }<br>}",
          "{<br>  \"number\": 49,<br>  \"values\": [<br>    0.903889892651185<br>  ],<br>  \"params\": {<br>    \"learning_rate\": 0.13539962059022392,<br>    \"n_estimators\": 535<br>  }<br>}",
          "{<br>  \"number\": 50,<br>  \"values\": [<br>    0.8971701753346478<br>  ],<br>  \"params\": {<br>    \"learning_rate\": 0.04158915795471948,<br>    \"n_estimators\": 346<br>  }<br>}",
          "{<br>  \"number\": 51,<br>  \"values\": [<br>    0.9355564505665195<br>  ],<br>  \"params\": {<br>    \"learning_rate\": 0.1907153317785433,<br>    \"n_estimators\": 651<br>  }<br>}",
          "{<br>  \"number\": 52,<br>  \"values\": [<br>    0.9066223711240463<br>  ],<br>  \"params\": {<br>    \"learning_rate\": 0.15853468771444482,<br>    \"n_estimators\": 586<br>  }<br>}",
          "{<br>  \"number\": 53,<br>  \"values\": [<br>    0.9031247132777377<br>  ],<br>  \"params\": {<br>    \"learning_rate\": 0.10722689271656266,<br>    \"n_estimators\": 701<br>  }<br>}",
          "{<br>  \"number\": 54,<br>  \"values\": [<br>    0.8894870312161324<br>  ],<br>  \"params\": {<br>    \"learning_rate\": 0.012075257097579397,<br>    \"n_estimators\": 627<br>  }<br>}",
          "{<br>  \"number\": 55,<br>  \"values\": [<br>    0.9161551029000106<br>  ],<br>  \"params\": {<br>    \"learning_rate\": 0.16969429999708047,<br>    \"n_estimators\": 448<br>  }<br>}",
          "{<br>  \"number\": 56,<br>  \"values\": [<br>    0.8977611825744866<br>  ],<br>  \"params\": {<br>    \"learning_rate\": 0.08991987584242019,<br>    \"n_estimators\": 609<br>  }<br>}",
          "{<br>  \"number\": 57,<br>  \"values\": [<br>    0.9463238124667027<br>  ],<br>  \"params\": {<br>    \"learning_rate\": 0.2547019458263629,<br>    \"n_estimators\": 713<br>  }<br>}",
          "{<br>  \"number\": 58,<br>  \"values\": [<br>    0.9004958110736857<br>  ],<br>  \"params\": {<br>    \"learning_rate\": 0.05361298953991261,<br>    \"n_estimators\": 867<br>  }<br>}",
          "{<br>  \"number\": 59,<br>  \"values\": [<br>    0.8885249894311206<br>  ],<br>  \"params\": {<br>    \"learning_rate\": 0.0019499666583202464,<br>    \"n_estimators\": 281<br>  }<br>}",
          "{<br>  \"number\": 60,<br>  \"values\": [<br>    0.8977523524663177<br>  ],<br>  \"params\": {<br>    \"learning_rate\": 0.14404102244348801,<br>    \"n_estimators\": 134<br>  }<br>}",
          "{<br>  \"number\": 61,<br>  \"values\": [<br>    0.9480250783072093<br>  ],<br>  \"params\": {<br>    \"learning_rate\": 0.22796017602073662,<br>    \"n_estimators\": 770<br>  }<br>}",
          "{<br>  \"number\": 62,<br>  \"values\": [<br>    0.9379127894316706<br>  ],<br>  \"params\": {<br>    \"learning_rate\": 0.23003206049253438,<br>    \"n_estimators\": 801<br>  }<br>}",
          "{<br>  \"number\": 63,<br>  \"values\": [<br>    0.9119456413341064<br>  ],<br>  \"params\": {<br>    \"learning_rate\": 0.11951020853203069,<br>    \"n_estimators\": 739<br>  }<br>}",
          "{<br>  \"number\": 64,<br>  \"values\": [<br>    0.9178313184336508<br>  ],<br>  \"params\": {<br>    \"learning_rate\": 0.1919449226536752,<br>    \"n_estimators\": 973<br>  }<br>}",
          "{<br>  \"number\": 66,<br>  \"values\": [<br>    0.90284056979698<br>  ],<br>  \"params\": {<br>    \"learning_rate\": 0.07678067174247015,<br>    \"n_estimators\": 511<br>  }<br>}",
          "{<br>  \"number\": 67,<br>  \"values\": [<br>    0.8977920879530774<br>  ],<br>  \"params\": {<br>    \"learning_rate\": 0.09545854235591798,<br>    \"n_estimators\": 569<br>  }<br>}",
          "{<br>  \"number\": 70,<br>  \"values\": [<br>    0.8980878365759981<br>  ],<br>  \"params\": {<br>    \"learning_rate\": 0.11395271247561528,<br>    \"n_estimators\": 618<br>  }<br>}",
          "{<br>  \"number\": 72,<br>  \"values\": [<br>    0.9158521091883376<br>  ],<br>  \"params\": {<br>    \"learning_rate\": 0.1538856702744225,<br>    \"n_estimators\": 685<br>  }<br>}",
          "{<br>  \"number\": 73,<br>  \"values\": [<br>    0.8984798713784243<br>  ],<br>  \"params\": {<br>    \"learning_rate\": 0.1327349984823223,<br>    \"n_estimators\": 555<br>  }<br>}",
          "{<br>  \"number\": 74,<br>  \"values\": [<br>    0.901214709880196<br>  ],<br>  \"params\": {<br>    \"learning_rate\": 0.06665814771376725,<br>    \"n_estimators\": 658<br>  }<br>}",
          "{<br>  \"number\": 75,<br>  \"values\": [<br>    0.9031510986009579<br>  ],<br>  \"params\": {<br>    \"learning_rate\": 0.082249670863163,<br>    \"n_estimators\": 641<br>  }<br>}",
          "{<br>  \"number\": 76,<br>  \"values\": [<br>    0.9031720438575372<br>  ],<br>  \"params\": {<br>    \"learning_rate\": 0.10155797766363563,<br>    \"n_estimators\": 722<br>  }<br>}",
          "{<br>  \"number\": 77,<br>  \"values\": [<br>    0.9168788317656892<br>  ],<br>  \"params\": {<br>    \"learning_rate\": 0.2048572502608253,<br>    \"n_estimators\": 379<br>  }<br>}",
          "{<br>  \"number\": 78,<br>  \"values\": [<br>    0.9155864859344527<br>  ],<br>  \"params\": {<br>    \"learning_rate\": 0.1719480989415328,<br>    \"n_estimators\": 607<br>  }<br>}",
          "{<br>  \"number\": 79,<br>  \"values\": [<br>    0.903924848079389<br>  ],<br>  \"params\": {<br>    \"learning_rate\": 0.12967294286318357,<br>    \"n_estimators\": 507<br>  }<br>}",
          "{<br>  \"number\": 80,<br>  \"values\": [<br>    0.904949465630954<br>  ],<br>  \"params\": {<br>    \"learning_rate\": 0.09272971142689374,<br>    \"n_estimators\": 565<br>  }<br>}",
          "{<br>  \"number\": 81,<br>  \"values\": [<br>    0.9165546627946193<br>  ],<br>  \"params\": {<br>    \"learning_rate\": 0.15564845660176926,<br>    \"n_estimators\": 596<br>  }<br>}",
          "{<br>  \"number\": 82,<br>  \"values\": [<br>    0.9067626028418848<br>  ],<br>  \"params\": {<br>    \"learning_rate\": 0.17548202349057795,<br>    \"n_estimators\": 680<br>  }<br>}",
          "{<br>  \"number\": 83,<br>  \"values\": [<br>    0.9265530352746821<br>  ],<br>  \"params\": {<br>    \"learning_rate\": 0.11575423519033791,<br>    \"n_estimators\": 645<br>  }<br>}",
          "{<br>  \"number\": 84,<br>  \"values\": [<br>    0.9162237637411058<br>  ],<br>  \"params\": {<br>    \"learning_rate\": 0.19983878347739636,<br>    \"n_estimators\": 538<br>  }<br>}",
          "{<br>  \"number\": 85,<br>  \"values\": [<br>    0.8977522424649702<br>  ],<br>  \"params\": {<br>    \"learning_rate\": 0.14253361588022662,<br>    \"n_estimators\": 620<br>  }<br>}",
          "{<br>  \"number\": 86,<br>  \"values\": [<br>    0.8954367240998702<br>  ],<br>  \"params\": {<br>    \"learning_rate\": 0.07200670786711594,<br>    \"n_estimators\": 578<br>  }<br>}",
          "{<br>  \"number\": 87,<br>  \"values\": [<br>    0.8977648176190158<br>  ],<br>  \"params\": {<br>    \"learning_rate\": 0.10871866708489682,<br>    \"n_estimators\": 179<br>  }<br>}",
          "{<br>  \"number\": 88,<br>  \"values\": [<br>    0.8984672512238275<br>  ],<br>  \"params\": {<br>    \"learning_rate\": 0.1257873902815213,<br>    \"n_estimators\": 653<br>  }<br>}",
          "{<br>  \"number\": 89,<br>  \"values\": [<br>    0.9376323309960547<br>  ],<br>  \"params\": {<br>    \"learning_rate\": 0.2577816931757054,<br>    \"n_estimators\": 702<br>  }<br>}",
          "{<br>  \"number\": 90,<br>  \"values\": [<br>    0.8945016926457349<br>  ],<br>  \"params\": {<br>    \"learning_rate\": 0.06010634023063568,<br>    \"n_estimators\": 248<br>  }<br>}",
          "{<br>  \"number\": 91,<br>  \"values\": [<br>    0.9477921354536593<br>  ],<br>  \"params\": {<br>    \"learning_rate\": 0.2423488254801852,<br>    \"n_estimators\": 763<br>  }<br>}",
          "{<br>  \"number\": 92,<br>  \"values\": [<br>    0.9467368475263822<br>  ],<br>  \"params\": {<br>    \"learning_rate\": 0.2976903484841878,<br>    \"n_estimators\": 935<br>  }<br>}",
          "{<br>  \"number\": 93,<br>  \"values\": [<br>    0.9173123320760679<br>  ],<br>  \"params\": {<br>    \"learning_rate\": 0.1769433357625737,<br>    \"n_estimators\": 594<br>  }<br>}",
          "{<br>  \"number\": 94,<br>  \"values\": [<br>    0.9209049460855896<br>  ],<br>  \"params\": {<br>    \"learning_rate\": 0.22480458862242808,<br>    \"n_estimators\": 835<br>  }<br>}",
          "{<br>  \"number\": 95,<br>  \"values\": [<br>    0.9168997170215335<br>  ],<br>  \"params\": {<br>    \"learning_rate\": 0.1581286102571855,<br>    \"n_estimators\": 727<br>  }<br>}",
          "{<br>  \"number\": 96,<br>  \"values\": [<br>    0.9182681437847614<br>  ],<br>  \"params\": {<br>    \"learning_rate\": 0.19641386601853664,<br>    \"n_estimators\": 478<br>  }<br>}",
          "{<br>  \"number\": 97,<br>  \"values\": [<br>    0.8977522424649702<br>  ],<br>  \"params\": {<br>    \"learning_rate\": 0.1431049681734436,<br>    \"n_estimators\": 779<br>  }<br>}",
          "{<br>  \"number\": 98,<br>  \"values\": [<br>    0.8977833278457661<br>  ],<br>  \"params\": {<br>    \"learning_rate\": 0.09867426238855057,<br>    \"n_estimators\": 624<br>  }<br>}",
          "{<br>  \"number\": 99,<br>  \"values\": [<br>    0.8977742227342285<br>  ],<br>  \"params\": {<br>    \"learning_rate\": 0.08529477816325334,<br>    \"n_estimators\": 516<br>  }<br>}"
         ],
         "textposition": "none",
         "type": "bar",
         "x": [
          514.6610000000001,
          576.2810000000001,
          647.948,
          1134.036,
          426.182,
          442.52799999999996,
          820.264,
          2943.1099999999997,
          447.455,
          447.487,
          458.055,
          515.196,
          440.679,
          678.572,
          1119.7839999999999,
          600.9689999999999,
          660.899,
          748.462,
          634.009,
          501.529,
          752.414,
          1416.677,
          428.211,
          368.834,
          422.12,
          490.01800000000003,
          609.164,
          472.285,
          594.317,
          510.068,
          556.49,
          404.18199999999996,
          363.574,
          991.706,
          1016.3290000000001,
          5940.03,
          1506.174,
          1421.211,
          1133.42,
          2132.159,
          901.04,
          15828.026,
          1329.9730000000002,
          910.3059999999999,
          812.197,
          41616.323000000004,
          6197.7789999999995,
          2726.1989999999996,
          2762.213,
          1299.01,
          854.974,
          302.182,
          584.607,
          331.641,
          548.721,
          882.115,
          552.69,
          683.1859999999999,
          573.697,
          401.346,
          390.217,
          580.533,
          401.32800000000003,
          1307.708,
          634.707,
          339.317,
          355.39500000000004,
          361.03000000000003,
          673.327,
          1127.032,
          341.039,
          12481.661,
          5287.205,
          1055.303,
          1002.9079999999999,
          791.005,
          1065.5159999999998,
          504.06600000000003,
          535.466,
          568.0079999999999
         ],
         "y": [
          2,
          3,
          4,
          7,
          11,
          13,
          14,
          15,
          17,
          18,
          19,
          20,
          22,
          24,
          25,
          26,
          27,
          28,
          29,
          30,
          31,
          32,
          34,
          35,
          38,
          39,
          40,
          41,
          42,
          45,
          46,
          47,
          48,
          49,
          50,
          51,
          52,
          53,
          54,
          55,
          56,
          57,
          58,
          59,
          60,
          61,
          62,
          63,
          64,
          66,
          67,
          70,
          72,
          73,
          74,
          75,
          76,
          77,
          78,
          79,
          80,
          81,
          82,
          83,
          84,
          85,
          86,
          87,
          88,
          89,
          90,
          91,
          92,
          93,
          94,
          95,
          96,
          97,
          98,
          99
         ]
        }
       ],
       "layout": {
        "showlegend": true,
        "template": {
         "data": {
          "bar": [
           {
            "error_x": {
             "color": "#2a3f5f"
            },
            "error_y": {
             "color": "#2a3f5f"
            },
            "marker": {
             "line": {
              "color": "#E5ECF6",
              "width": 0.5
             },
             "pattern": {
              "fillmode": "overlay",
              "size": 10,
              "solidity": 0.2
             }
            },
            "type": "bar"
           }
          ],
          "barpolar": [
           {
            "marker": {
             "line": {
              "color": "#E5ECF6",
              "width": 0.5
             },
             "pattern": {
              "fillmode": "overlay",
              "size": 10,
              "solidity": 0.2
             }
            },
            "type": "barpolar"
           }
          ],
          "carpet": [
           {
            "aaxis": {
             "endlinecolor": "#2a3f5f",
             "gridcolor": "white",
             "linecolor": "white",
             "minorgridcolor": "white",
             "startlinecolor": "#2a3f5f"
            },
            "baxis": {
             "endlinecolor": "#2a3f5f",
             "gridcolor": "white",
             "linecolor": "white",
             "minorgridcolor": "white",
             "startlinecolor": "#2a3f5f"
            },
            "type": "carpet"
           }
          ],
          "choropleth": [
           {
            "colorbar": {
             "outlinewidth": 0,
             "ticks": ""
            },
            "type": "choropleth"
           }
          ],
          "contour": [
           {
            "colorbar": {
             "outlinewidth": 0,
             "ticks": ""
            },
            "colorscale": [
             [
              0,
              "#0d0887"
             ],
             [
              0.1111111111111111,
              "#46039f"
             ],
             [
              0.2222222222222222,
              "#7201a8"
             ],
             [
              0.3333333333333333,
              "#9c179e"
             ],
             [
              0.4444444444444444,
              "#bd3786"
             ],
             [
              0.5555555555555556,
              "#d8576b"
             ],
             [
              0.6666666666666666,
              "#ed7953"
             ],
             [
              0.7777777777777778,
              "#fb9f3a"
             ],
             [
              0.8888888888888888,
              "#fdca26"
             ],
             [
              1,
              "#f0f921"
             ]
            ],
            "type": "contour"
           }
          ],
          "contourcarpet": [
           {
            "colorbar": {
             "outlinewidth": 0,
             "ticks": ""
            },
            "type": "contourcarpet"
           }
          ],
          "heatmap": [
           {
            "colorbar": {
             "outlinewidth": 0,
             "ticks": ""
            },
            "colorscale": [
             [
              0,
              "#0d0887"
             ],
             [
              0.1111111111111111,
              "#46039f"
             ],
             [
              0.2222222222222222,
              "#7201a8"
             ],
             [
              0.3333333333333333,
              "#9c179e"
             ],
             [
              0.4444444444444444,
              "#bd3786"
             ],
             [
              0.5555555555555556,
              "#d8576b"
             ],
             [
              0.6666666666666666,
              "#ed7953"
             ],
             [
              0.7777777777777778,
              "#fb9f3a"
             ],
             [
              0.8888888888888888,
              "#fdca26"
             ],
             [
              1,
              "#f0f921"
             ]
            ],
            "type": "heatmap"
           }
          ],
          "histogram": [
           {
            "marker": {
             "pattern": {
              "fillmode": "overlay",
              "size": 10,
              "solidity": 0.2
             }
            },
            "type": "histogram"
           }
          ],
          "histogram2d": [
           {
            "colorbar": {
             "outlinewidth": 0,
             "ticks": ""
            },
            "colorscale": [
             [
              0,
              "#0d0887"
             ],
             [
              0.1111111111111111,
              "#46039f"
             ],
             [
              0.2222222222222222,
              "#7201a8"
             ],
             [
              0.3333333333333333,
              "#9c179e"
             ],
             [
              0.4444444444444444,
              "#bd3786"
             ],
             [
              0.5555555555555556,
              "#d8576b"
             ],
             [
              0.6666666666666666,
              "#ed7953"
             ],
             [
              0.7777777777777778,
              "#fb9f3a"
             ],
             [
              0.8888888888888888,
              "#fdca26"
             ],
             [
              1,
              "#f0f921"
             ]
            ],
            "type": "histogram2d"
           }
          ],
          "histogram2dcontour": [
           {
            "colorbar": {
             "outlinewidth": 0,
             "ticks": ""
            },
            "colorscale": [
             [
              0,
              "#0d0887"
             ],
             [
              0.1111111111111111,
              "#46039f"
             ],
             [
              0.2222222222222222,
              "#7201a8"
             ],
             [
              0.3333333333333333,
              "#9c179e"
             ],
             [
              0.4444444444444444,
              "#bd3786"
             ],
             [
              0.5555555555555556,
              "#d8576b"
             ],
             [
              0.6666666666666666,
              "#ed7953"
             ],
             [
              0.7777777777777778,
              "#fb9f3a"
             ],
             [
              0.8888888888888888,
              "#fdca26"
             ],
             [
              1,
              "#f0f921"
             ]
            ],
            "type": "histogram2dcontour"
           }
          ],
          "mesh3d": [
           {
            "colorbar": {
             "outlinewidth": 0,
             "ticks": ""
            },
            "type": "mesh3d"
           }
          ],
          "parcoords": [
           {
            "line": {
             "colorbar": {
              "outlinewidth": 0,
              "ticks": ""
             }
            },
            "type": "parcoords"
           }
          ],
          "pie": [
           {
            "automargin": true,
            "type": "pie"
           }
          ],
          "scatter": [
           {
            "fillpattern": {
             "fillmode": "overlay",
             "size": 10,
             "solidity": 0.2
            },
            "type": "scatter"
           }
          ],
          "scatter3d": [
           {
            "line": {
             "colorbar": {
              "outlinewidth": 0,
              "ticks": ""
             }
            },
            "marker": {
             "colorbar": {
              "outlinewidth": 0,
              "ticks": ""
             }
            },
            "type": "scatter3d"
           }
          ],
          "scattercarpet": [
           {
            "marker": {
             "colorbar": {
              "outlinewidth": 0,
              "ticks": ""
             }
            },
            "type": "scattercarpet"
           }
          ],
          "scattergeo": [
           {
            "marker": {
             "colorbar": {
              "outlinewidth": 0,
              "ticks": ""
             }
            },
            "type": "scattergeo"
           }
          ],
          "scattergl": [
           {
            "marker": {
             "colorbar": {
              "outlinewidth": 0,
              "ticks": ""
             }
            },
            "type": "scattergl"
           }
          ],
          "scattermap": [
           {
            "marker": {
             "colorbar": {
              "outlinewidth": 0,
              "ticks": ""
             }
            },
            "type": "scattermap"
           }
          ],
          "scattermapbox": [
           {
            "marker": {
             "colorbar": {
              "outlinewidth": 0,
              "ticks": ""
             }
            },
            "type": "scattermapbox"
           }
          ],
          "scatterpolar": [
           {
            "marker": {
             "colorbar": {
              "outlinewidth": 0,
              "ticks": ""
             }
            },
            "type": "scatterpolar"
           }
          ],
          "scatterpolargl": [
           {
            "marker": {
             "colorbar": {
              "outlinewidth": 0,
              "ticks": ""
             }
            },
            "type": "scatterpolargl"
           }
          ],
          "scatterternary": [
           {
            "marker": {
             "colorbar": {
              "outlinewidth": 0,
              "ticks": ""
             }
            },
            "type": "scatterternary"
           }
          ],
          "surface": [
           {
            "colorbar": {
             "outlinewidth": 0,
             "ticks": ""
            },
            "colorscale": [
             [
              0,
              "#0d0887"
             ],
             [
              0.1111111111111111,
              "#46039f"
             ],
             [
              0.2222222222222222,
              "#7201a8"
             ],
             [
              0.3333333333333333,
              "#9c179e"
             ],
             [
              0.4444444444444444,
              "#bd3786"
             ],
             [
              0.5555555555555556,
              "#d8576b"
             ],
             [
              0.6666666666666666,
              "#ed7953"
             ],
             [
              0.7777777777777778,
              "#fb9f3a"
             ],
             [
              0.8888888888888888,
              "#fdca26"
             ],
             [
              1,
              "#f0f921"
             ]
            ],
            "type": "surface"
           }
          ],
          "table": [
           {
            "cells": {
             "fill": {
              "color": "#EBF0F8"
             },
             "line": {
              "color": "white"
             }
            },
            "header": {
             "fill": {
              "color": "#C8D4E3"
             },
             "line": {
              "color": "white"
             }
            },
            "type": "table"
           }
          ]
         },
         "layout": {
          "annotationdefaults": {
           "arrowcolor": "#2a3f5f",
           "arrowhead": 0,
           "arrowwidth": 1
          },
          "autotypenumbers": "strict",
          "coloraxis": {
           "colorbar": {
            "outlinewidth": 0,
            "ticks": ""
           }
          },
          "colorscale": {
           "diverging": [
            [
             0,
             "#8e0152"
            ],
            [
             0.1,
             "#c51b7d"
            ],
            [
             0.2,
             "#de77ae"
            ],
            [
             0.3,
             "#f1b6da"
            ],
            [
             0.4,
             "#fde0ef"
            ],
            [
             0.5,
             "#f7f7f7"
            ],
            [
             0.6,
             "#e6f5d0"
            ],
            [
             0.7,
             "#b8e186"
            ],
            [
             0.8,
             "#7fbc41"
            ],
            [
             0.9,
             "#4d9221"
            ],
            [
             1,
             "#276419"
            ]
           ],
           "sequential": [
            [
             0,
             "#0d0887"
            ],
            [
             0.1111111111111111,
             "#46039f"
            ],
            [
             0.2222222222222222,
             "#7201a8"
            ],
            [
             0.3333333333333333,
             "#9c179e"
            ],
            [
             0.4444444444444444,
             "#bd3786"
            ],
            [
             0.5555555555555556,
             "#d8576b"
            ],
            [
             0.6666666666666666,
             "#ed7953"
            ],
            [
             0.7777777777777778,
             "#fb9f3a"
            ],
            [
             0.8888888888888888,
             "#fdca26"
            ],
            [
             1,
             "#f0f921"
            ]
           ],
           "sequentialminus": [
            [
             0,
             "#0d0887"
            ],
            [
             0.1111111111111111,
             "#46039f"
            ],
            [
             0.2222222222222222,
             "#7201a8"
            ],
            [
             0.3333333333333333,
             "#9c179e"
            ],
            [
             0.4444444444444444,
             "#bd3786"
            ],
            [
             0.5555555555555556,
             "#d8576b"
            ],
            [
             0.6666666666666666,
             "#ed7953"
            ],
            [
             0.7777777777777778,
             "#fb9f3a"
            ],
            [
             0.8888888888888888,
             "#fdca26"
            ],
            [
             1,
             "#f0f921"
            ]
           ]
          },
          "colorway": [
           "#636efa",
           "#EF553B",
           "#00cc96",
           "#ab63fa",
           "#FFA15A",
           "#19d3f3",
           "#FF6692",
           "#B6E880",
           "#FF97FF",
           "#FECB52"
          ],
          "font": {
           "color": "#2a3f5f"
          },
          "geo": {
           "bgcolor": "white",
           "lakecolor": "white",
           "landcolor": "#E5ECF6",
           "showlakes": true,
           "showland": true,
           "subunitcolor": "white"
          },
          "hoverlabel": {
           "align": "left"
          },
          "hovermode": "closest",
          "mapbox": {
           "style": "light"
          },
          "paper_bgcolor": "white",
          "plot_bgcolor": "#E5ECF6",
          "polar": {
           "angularaxis": {
            "gridcolor": "white",
            "linecolor": "white",
            "ticks": ""
           },
           "bgcolor": "#E5ECF6",
           "radialaxis": {
            "gridcolor": "white",
            "linecolor": "white",
            "ticks": ""
           }
          },
          "scene": {
           "xaxis": {
            "backgroundcolor": "#E5ECF6",
            "gridcolor": "white",
            "gridwidth": 2,
            "linecolor": "white",
            "showbackground": true,
            "ticks": "",
            "zerolinecolor": "white"
           },
           "yaxis": {
            "backgroundcolor": "#E5ECF6",
            "gridcolor": "white",
            "gridwidth": 2,
            "linecolor": "white",
            "showbackground": true,
            "ticks": "",
            "zerolinecolor": "white"
           },
           "zaxis": {
            "backgroundcolor": "#E5ECF6",
            "gridcolor": "white",
            "gridwidth": 2,
            "linecolor": "white",
            "showbackground": true,
            "ticks": "",
            "zerolinecolor": "white"
           }
          },
          "shapedefaults": {
           "line": {
            "color": "#2a3f5f"
           }
          },
          "ternary": {
           "aaxis": {
            "gridcolor": "white",
            "linecolor": "white",
            "ticks": ""
           },
           "baxis": {
            "gridcolor": "white",
            "linecolor": "white",
            "ticks": ""
           },
           "bgcolor": "#E5ECF6",
           "caxis": {
            "gridcolor": "white",
            "linecolor": "white",
            "ticks": ""
           }
          },
          "title": {
           "x": 0.05
          },
          "xaxis": {
           "automargin": true,
           "gridcolor": "white",
           "linecolor": "white",
           "ticks": "",
           "title": {
            "standoff": 15
           },
           "zerolinecolor": "white",
           "zerolinewidth": 2
          },
          "yaxis": {
           "automargin": true,
           "gridcolor": "white",
           "linecolor": "white",
           "ticks": "",
           "title": {
            "standoff": 15
           },
           "zerolinecolor": "white",
           "zerolinewidth": 2
          }
         }
        },
        "title": {
         "text": "Timeline Plot"
        },
        "xaxis": {
         "title": {
          "text": "Datetime"
         },
         "type": "date"
        },
        "yaxis": {
         "title": {
          "text": "Trial"
         }
        }
       }
      },
      "image/png": "[encoded data removed]"
     },
     "metadata": {},
     "output_type": "display_data"
    }
   ],
   "source": [
    "from optuna.visualization import plot_contour\n",
    "from optuna.visualization import plot_intermediate_values\n",
    "from optuna.visualization import plot_optimization_history\n",
    "from optuna.visualization import plot_parallel_coordinate\n",
    "from optuna.visualization import plot_param_importances\n",
    "from optuna.visualization import plot_slice\n",
    "# Visualize parameter importances.\n",
    "plot_param_importances(study).show()\n",
    "plot_slice(study).show()\n",
    "plot_slice(study, params=[\"n_estimators\", \"learning_rate\"]).show()\n",
    "plot_parallel_coordinate(study).show()\n",
    "plot_optimization_history(study).show()\n",
    "optuna.visualization.plot_timeline(study).show()\n",
    "\n"
   ]
  },
  {
   "cell_type": "markdown",
   "id": "33112eae",
   "metadata": {},
   "source": [
    "Applying optimized model to the test data to see performance"
   ]
  },
  {
   "cell_type": "code",
   "execution_count": 5,
   "id": "fbb3e90c",
   "metadata": {},
   "outputs": [
    {
     "name": "stdout",
     "output_type": "stream",
     "text": [
      "Optimized_Optuna: PR_AUC= 0.8394049077301958\n",
      "Optimized_Optuna: Accuracy= 0.8979844899224496, Precision= 0.6067027972877731, Recall= 0.8554002192982456\n"
     ]
    }
   ],
   "source": [
    "#testing on test data\n",
    "trainingsignalpercent=0.5\n",
    "trainingsize=100000\n",
    "testsignalpercent=len(signaldf)/(len(backgrounddf)+len(signaldf))\n",
    "testsize=200000\n",
    "trainingdf,testingdf=selectorderly(signaldf,backgrounddf,trainingsignalpercent,trainingsize,testsignalpercent,testsize)\n",
    "X=trainingdf.drop('y',axis=1)\n",
    "y=trainingdf['y']\n",
    "X_train, X_val, y_train, y_val = train_test_split(X, y, test_size=(0.2), random_state=42)\n",
    "\n",
    "X_test=testingdf.drop('y',axis=1)\n",
    "y_test=testingdf['y']\n",
    "\n",
    "model = xgb.XGBClassifier(**study.best_trial.params, random_state=42, early_stopping_rounds=50,eval_metric='auc')\n",
    "model.fit(\n",
    "    X_train, y_train,\n",
    "    eval_set=[(X_val, y_val)],\n",
    "    verbose=False,\n",
    ")\n",
    "preds = model.predict_proba(X_test)[:, 1]\n",
    "precision, recall, threshold = precision_recall_curve(y_test, preds)\n",
    "print(f'Optimized_Optuna: PR_AUC= {auc(recall, precision)}')\n",
    "tempmodel_pred=model.predict(X_test)\n",
    "print(f'Optimized_Optuna: Accuracy= {accuracy_score(y_test, tempmodel_pred)}, Precision= {precision_score(y_test, tempmodel_pred)}, Recall= {recall_score(y_test, tempmodel_pred)}')"
   ]
  },
  {
   "cell_type": "code",
   "execution_count": null,
   "id": "ee8f96d2-998f-4e18-86de-e244829cfbfa",
   "metadata": {},
   "outputs": [],
   "source": []
  }
 ],
 "metadata": {
  "kernelspec": {
   "display_name": "Python 3 (ipykernel)",
   "language": "python",
   "name": "python3"
  },
  "language_info": {
   "codemirror_mode": {
    "name": "ipython",
    "version": 3
   },
   "file_extension": ".py",
   "mimetype": "text/x-python",
   "name": "python",
   "nbconvert_exporter": "python",
   "pygments_lexer": "ipython3",
   "version": "3.13.7"
  }
 },
 "nbformat": 4,
 "nbformat_minor": 5
}
